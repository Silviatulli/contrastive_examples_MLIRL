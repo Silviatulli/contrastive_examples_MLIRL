{
  "cells": [
    {
      "cell_type": "code",
      "execution_count": 1,
      "metadata": {
        "id": "6eXzKXL9J76b"
      },
      "outputs": [],
      "source": [
        "%matplotlib inline\n",
        "\n",
        "import numpy as np\n",
        "import matplotlib.pyplot as plt\n",
        "from tqdm.notebook import trange, tqdm\n",
        "\n",
        "ETA_Q = 5\n",
        "ETA_R = 5\n",
        "EPS = 1e-8\n",
        "STEP = 0.2"
      ]
    },
    {
      "cell_type": "markdown",
      "metadata": {
        "id": "g4GAQ9f1J76e"
      },
      "source": [
        "# The power of contrastive examples\n",
        "\n",
        "We compare RL, contrastive examples and demonstrations."
      ]
    },
    {
      "cell_type": "markdown",
      "metadata": {
        "id": "RgcJDZxsJ76g"
      },
      "source": [
        "## Environment definition\n",
        "\n",
        "The environment looks like this:\n",
        "\n",
        "```\n",
        " ---- ---- ---- ---- ---- \n",
        "|  1 |  2 |  3 |  4 |  5 |\n",
        " ---- ---- ---- ---- ----\n",
        "|  6 |    |  7 |    |  8 |\n",
        " ----      ----      ----\n",
        "|  9 |    | 10 |    | 11 |\n",
        " ----      ----      ----\n",
        "| 12 |              | 13 |\n",
        " ----                ----\n",
        "| 14 |              | 15 |\n",
        " ----                ----  \n",
        "```"
      ]
    },
    {
      "cell_type": "code",
      "execution_count": 2,
      "metadata": {
        "colab": {
          "base_uri": "https://localhost:8080/"
        },
        "id": "MhM-GZkGJ76g",
        "outputId": "1f629d7e-5b33-48a7-cded-ffbd8ef3919a"
      },
      "outputs": [
        {
          "output_type": "stream",
          "name": "stdout",
          "text": [
            "States: ['1', '2', '3', '4', '5', '6', '7', '8', '9', '10', '11', '12', '13', '14', '15']\n"
          ]
        }
      ],
      "source": [
        "S = list(map(lambda x : str(x), range(1, 16)))\n",
        "\n",
        "print('States:', S)"
      ]
    },
    {
      "cell_type": "code",
      "execution_count": 3,
      "metadata": {
        "colab": {
          "base_uri": "https://localhost:8080/"
        },
        "id": "UlZgXAGoJ76h",
        "outputId": "61927666-0c17-4e31-9e1a-4db17a79721f"
      },
      "outputs": [
        {
          "output_type": "stream",
          "name": "stdout",
          "text": [
            "Actions: ('Up', 'Down', 'Left', 'Right', 'No-Op')\n"
          ]
        }
      ],
      "source": [
        "A = ('Up', 'Down', 'Left', 'Right', 'No-Op')\n",
        "\n",
        "print('Actions:', A)"
      ]
    },
    {
      "cell_type": "code",
      "execution_count": 4,
      "metadata": {
        "colab": {
          "base_uri": "https://localhost:8080/"
        },
        "id": "7zPS3eBhJ76i",
        "outputId": "b0c03090-214b-43d4-b4b3-e49e592120dc"
      },
      "outputs": [
        {
          "output_type": "stream",
          "name": "stdout",
          "text": [
            "Transition probabilities ok?\n",
            "\t- Action Up: True\n",
            "\t- Action Down: True\n",
            "\t- Action Left: True\n",
            "\t- Action Right: True\n",
            "\t- Action No-Op: True\n"
          ]
        }
      ],
      "source": [
        "#               1   2   3   4   5   6   7   8   9   10  11  12  13  14  15           \n",
        "Pu = np.array([[1., 0., 0., 0., 0., 0., 0., 0., 0., 0., 0., 0., 0., 0., 0.],  # 1\n",
        "               [0., 1., 0., 0., 0., 0., 0., 0., 0., 0., 0., 0., 0., 0., 0.],  # 2\n",
        "               [0., 0., 1., 0., 0., 0., 0., 0., 0., 0., 0., 0., 0., 0., 0.],  # 3\n",
        "               [0., 0., 0., 1., 0., 0., 0., 0., 0., 0., 0., 0., 0., 0., 0.],  # 4\n",
        "               [0., 0., 0., 0., 1., 0., 0., 0., 0., 0., 0., 0., 0., 0., 0.],  # 5\n",
        "               [.8, 0., 0., 0., 0., .2, 0., 0., 0., 0., 0., 0., 0., 0., 0.],  # 6\n",
        "               [0., 0., .8, 0., 0., 0., .2, 0., 0., 0., 0., 0., 0., 0., 0.],  # 7\n",
        "               [0., 0., 0., 0., .8, 0., 0., .2, 0., 0., 0., 0., 0., 0., 0.],  # 8\n",
        "               [0., 0., 0., 0., 0., .8, 0., 0., .2, 0., 0., 0., 0., 0., 0.],  # 9\n",
        "               [0., 0., 0., 0., 0., 0., .8, 0., 0., .2, 0., 0., 0., 0., 0.],  # 10\n",
        "               [0., 0., 0., 0., 0., 0., 0., .8, 0., 0., .2, 0., 0., 0., 0.],  # 11\n",
        "               [0., 0., 0., 0., 0., 0., 0., 0., .8, 0., 0., .2, 0., 0., 0.],  # 12\n",
        "               [0., 0., 0., 0., 0., 0., 0., 0., 0., 0., .8, 0., .2, 0., 0.],  # 13\n",
        "               [0., 0., 0., 0., 0., 0., 0., 0., 0., 0., 0., .8, 0., .2, 0.],  # 14\n",
        "               [0., 0., 0., 0., 0., 0., 0., 0., 0., 0., 0., 0., .8, 0., .2]]) # 15\n",
        "\n",
        "#               1   2   3   4   5   6   7   8   9   10  11  12  13  14  15           \n",
        "Pd = np.array([[.2, 0., 0., 0., 0., .8, 0., 0., 0., 0., 0., 0., 0., 0., 0.],  # 1\n",
        "               [0., 1., 0., 0., 0., 0., 0., 0., 0., 0., 0., 0., 0., 0., 0.],  # 2\n",
        "               [0., 0., .2, 0., 0., 0., .8, 0., 0., 0., 0., 0., 0., 0., 0.],  # 3\n",
        "               [0., 0., 0., 1., 0., 0., 0., 0., 0., 0., 0., 0., 0., 0., 0.],  # 4\n",
        "               [0., 0., 0., 0., .2, 0., 0., .8, 0., 0., 0., 0., 0., 0., 0.],  # 5\n",
        "               [0., 0., 0., 0., 0., .2, 0., 0., .8, 0., 0., 0., 0., 0., 0.],  # 6\n",
        "               [0., 0., 0., 0., 0., 0., .2, 0., 0., .8, 0., 0., 0., 0., 0.],  # 7\n",
        "               [0., 0., 0., 0., 0., 0., 0., .2, 0., 0., .8, 0., 0., 0., 0.],  # 8\n",
        "               [0., 0., 0., 0., 0., 0., 0., 0., .2, 0., 0., .8, 0., 0., 0.],  # 9\n",
        "               [0., 0., 0., 0., 0., 0., 0., 0., 0., 1., 0., 0., 0., 0., 0.],  # 10\n",
        "               [0., 0., 0., 0., 0., 0., 0., 0., 0., 0., .2, 0., .8, 0., 0.],  # 11\n",
        "               [0., 0., 0., 0., 0., 0., 0., 0., 0., 0., 0., .2, 0., .8, 0.],  # 12\n",
        "               [0., 0., 0., 0., 0., 0., 0., 0., 0., 0., 0., 0., .2, 0., .8],  # 13\n",
        "               [0., 0., 0., 0., 0., 0., 0., 0., 0., 0., 0., 0., 0., 1., 0.],  # 14\n",
        "               [0., 0., 0., 0., 0., 0., 0., 0., 0., 0., 0., 0., 0., 0., 1.]]) # 15\n",
        "\n",
        "\n",
        "#               1   2   3   4   5   6   7   8   9   10  11  12  13  14  15           \n",
        "Pl = np.array([[1., 0., 0., 0., 0., 0., 0., 0., 0., 0., 0., 0., 0., 0., 0.],  # 1\n",
        "               [.8, .2, 0., 0., 0., 0., 0., 0., 0., 0., 0., 0., 0., 0., 0.],  # 2\n",
        "               [0., .8, .2, 0., 0., 0., 0., 0., 0., 0., 0., 0., 0., 0., 0.],  # 3\n",
        "               [0., 0., .8, .2, 0., 0., 0., 0., 0., 0., 0., 0., 0., 0., 0.],  # 4\n",
        "               [0., 0., 0., .8, .2, 0., 0., 0., 0., 0., 0., 0., 0., 0., 0.],  # 5\n",
        "               [0., 0., 0., 0., 0., 1., 0., 0., 0., 0., 0., 0., 0., 0., 0.],  # 6\n",
        "               [0., 0., 0., 0., 0., 0., 1., 0., 0., 0., 0., 0., 0., 0., 0.],  # 7\n",
        "               [0., 0., 0., 0., 0., 0., 0., 1., 0., 0., 0., 0., 0., 0., 0.],  # 8\n",
        "               [0., 0., 0., 0., 0., 0., 0., 0., 1., 0., 0., 0., 0., 0., 0.],  # 9\n",
        "               [0., 0., 0., 0., 0., 0., 0., 0., 0., 1., 0., 0., 0., 0., 0.],  # 10\n",
        "               [0., 0., 0., 0., 0., 0., 0., 0., 0., 0., 1., 0., 0., 0., 0.],  # 11\n",
        "               [0., 0., 0., 0., 0., 0., 0., 0., 0., 0., 0., 1., 0., 0., 0.],  # 12\n",
        "               [0., 0., 0., 0., 0., 0., 0., 0., 0., 0., 0., 0., 1., 0., 0.],  # 13\n",
        "               [0., 0., 0., 0., 0., 0., 0., 0., 0., 0., 0., 0., 0., 1., 0.],  # 14\n",
        "               [0., 0., 0., 0., 0., 0., 0., 0., 0., 0., 0., 0., 0., 0., 1.]]) # 15\n",
        "\n",
        "\n",
        "\n",
        "#               1   2   3   4   5   6   7   8   9   10  11  12  13  14  15           \n",
        "Pr = np.array([[.2, .8, 0., 0., 0., 0., 0., 0., 0., 0., 0., 0., 0., 0., 0.],  # 1\n",
        "               [0., .2, .8, 0., 0., 0., 0., 0., 0., 0., 0., 0., 0., 0., 0.],  # 2\n",
        "               [0., 0., .2, .8, 0., 0., 0., 0., 0., 0., 0., 0., 0., 0., 0.],  # 3\n",
        "               [0., 0., 0., .2, .8, 0., 0., 0., 0., 0., 0., 0., 0., 0., 0.],  # 4\n",
        "               [0., 0., 0., 0., 1., 0., 0., 0., 0., 0., 0., 0., 0., 0., 0.],  # 5\n",
        "               [0., 0., 0., 0., 0., 1., 0., 0., 0., 0., 0., 0., 0., 0., 0.],  # 6\n",
        "               [0., 0., 0., 0., 0., 0., 1., 0., 0., 0., 0., 0., 0., 0., 0.],  # 7\n",
        "               [0., 0., 0., 0., 0., 0., 0., 1., 0., 0., 0., 0., 0., 0., 0.],  # 8\n",
        "               [0., 0., 0., 0., 0., 0., 0., 0., 1., 0., 0., 0., 0., 0., 0.],  # 9\n",
        "               [0., 0., 0., 0., 0., 0., 0., 0., 0., 1., 0., 0., 0., 0., 0.],  # 10\n",
        "               [0., 0., 0., 0., 0., 0., 0., 0., 0., 0., 1., 0., 0., 0., 0.],  # 11\n",
        "               [0., 0., 0., 0., 0., 0., 0., 0., 0., 0., 0., 1., 0., 0., 0.],  # 12\n",
        "               [0., 0., 0., 0., 0., 0., 0., 0., 0., 0., 0., 0., 1., 0., 0.],  # 13\n",
        "               [0., 0., 0., 0., 0., 0., 0., 0., 0., 0., 0., 0., 0., 1., 0.],  # 14\n",
        "               [0., 0., 0., 0., 0., 0., 0., 0., 0., 0., 0., 0., 0., 0., 1.]]) # 15\n",
        "\n",
        "\n",
        "Pn = np.eye(len(S))\n",
        "\n",
        "P = [Pu, Pd, Pl, Pr, Pn]\n",
        "\n",
        "print('Transition probabilities ok?')\n",
        "\n",
        "for aidx in range(len(A)):\n",
        "    print('\\t- Action %s:' % A[aidx], np.all(np.isclose(P[aidx].sum(axis=1), 1.)))\n",
        "    \n",
        "gamma = 0.99"
      ]
    },
    {
      "cell_type": "code",
      "execution_count": 5,
      "metadata": {
        "id": "utyA_tD3J76k"
      },
      "outputs": [],
      "source": [
        "# Rewards are a convex combination of 7 features/rewards\n",
        "CELL_GOAL = np.zeros((len(S), len(A)))\n",
        "CELL_GOAL[14, :] = 1\n",
        "\n",
        "CELL_10 = np.zeros((len(S), len(A)))\n",
        "CELL_10[9, :] = 1\n",
        "\n",
        "CELL_14 = np.zeros((len(S), len(A)))\n",
        "CELL_14[13, :] = 1\n",
        "\n",
        "\n",
        "RFEAT = (CELL_GOAL, CELL_10, CELL_14)"
      ]
    },
    {
      "cell_type": "markdown",
      "metadata": {
        "id": "zcthHE-sJ76k"
      },
      "source": [
        "## MDP solver\n",
        "\n",
        "The next function is used to compute the optimal $Q$-function for MDPs. For computational efficiency, we pre-compute the optimal $Q$-function for all MDPs."
      ]
    },
    {
      "cell_type": "code",
      "execution_count": 6,
      "metadata": {
        "id": "KOVzIT71J76l"
      },
      "outputs": [],
      "source": [
        "def vi(M):\n",
        "    ''' \n",
        "    Compute optimal Q-function for MDP M.\n",
        "\n",
        "    :param M: 5-tuple corresponding to MDP description: (S, A, P, R, gamma)\n",
        "    :return: np.array with shape (|S|, |A|), corresponding to Q* for M.\n",
        "    '''\n",
        "\n",
        "    S = M[0]\n",
        "    A = M[1]\n",
        "    P = M[2]\n",
        "    R = M[3]\n",
        "    gamma = M[4]\n",
        "    \n",
        "    Q = np.zeros((len(S), len(A)))\n",
        "    quit = False\n",
        "    niter = 0\n",
        "    \n",
        "    while not quit:\n",
        "        Qnew = np.zeros((len(S), len(A)))\n",
        "        V = np.max(Q, axis=1, keepdims=True)\n",
        "        for a in range(len(A)):\n",
        "            Qnew[:, a, None] = R[:, a, None] + gamma * P[a].dot(V)\n",
        "            \n",
        "        if np.linalg.norm(Q - Qnew) < EPS:\n",
        "            quit = True\n",
        "            \n",
        "        Q = Qnew\n",
        "        niter += 1\n",
        "        \n",
        "    # print('Finished after %i iterations.' % niter)\n",
        "    return Q\n",
        "\n",
        "# --\n",
        "\n",
        "def greedy(Q):\n",
        "    ''' \n",
        "    Compute greedy policy with respect to Q.\n",
        "    \n",
        "    :param Q: np.array with shape (|S|, |A|).\n",
        "    :return: np.array with shape (|S|, |A|), corresponding to pi_g(Q).\n",
        "    '''\n",
        "    \n",
        "    pol = (Q == np.max(Q, axis=1, keepdims=True)).astype(int)\n",
        "    pol = pol / np.sum(pol, axis=1, keepdims=True)\n",
        "\n",
        "    return pol\n",
        "\n",
        "# --\n",
        "\n",
        "def boltzmann(Q):\n",
        "    ''' \n",
        "    Computes the Boltzmann policy with respect to Q.\n",
        "\n",
        "    :param Q: np.array with shape (|S|, |A|).\n",
        "    :return: np.array with shape (|S|, |A|) corresponding to pi_B(Q).\n",
        "    '''\n",
        "    \n",
        "    Q = ETA_Q * (Q - np.max(Q, axis=1, keepdims=True))\n",
        "\n",
        "    pol = np.round(np.exp(Q), 3)\n",
        "    pol = pol / np.sum(pol, axis=1, keepdims=True)\n",
        "    \n",
        "    return pol\n",
        "\n",
        "# --"
      ]
    },
    {
      "cell_type": "code",
      "execution_count": 7,
      "metadata": {
        "id": "M462WAssJ76m"
      },
      "outputs": [],
      "source": [
        "w = np.random.randn(4)\n",
        "r = np.sum([RFEAT[m] * w[m] for m in range(len(RFEAT))], axis=0)\n",
        "M = (S, A, P, r, gamma)\n",
        "Q = vi(M)\n",
        "pol = boltzmann(Q)"
      ]
    },
    {
      "cell_type": "markdown",
      "metadata": {
        "id": "zHt6k7pbJ76m"
      },
      "source": [
        "## RL updater\n",
        "\n",
        "We perform maximum likelihood estimation using SGD, where \n",
        "\n",
        "$$r_t\\sim\\mathrm{Normal}(w^\\top\\phi(s_t,a_t);\\eta)$$"
      ]
    },
    {
      "cell_type": "code",
      "execution_count": 8,
      "metadata": {
        "id": "gGr9dYM7J76m"
      },
      "outputs": [],
      "source": [
        "# Weight update\n",
        "def rl_update(wold, s, a, r):\n",
        "    ''' \n",
        "    Updates the weights wold given the triplet (s, a, r) and the weight w. \n",
        "    The update is a Stochastic Gradient Descent (SGD) update on the negative log likelihood, assuming the\n",
        "    reward is disturbed by 0-mean Gaussian noise.\n",
        "    \n",
        "    :param wold: np.array with shape (nfeat,)\n",
        "    :param s: int (state index)\n",
        "    :param a: int (action index)\n",
        "    :param r: float (reward)\n",
        "    :return: np.array with shape (nfeat,)\n",
        "    '''\n",
        "    \n",
        "    feat = np.array([RFEAT[m][s, a] for m in range(len(RFEAT))])\n",
        "    \n",
        "    grad = feat * (feat.dot(wold) - r)    \n",
        "    wnew = wold - STEP * grad\n",
        "\n",
        "    return wnew"
      ]
    },
    {
      "cell_type": "markdown",
      "metadata": {
        "id": "-bLtdUSwJ76n"
      },
      "source": [
        "## Demonstration updater\n",
        "\n",
        "We perform maximum likelihood estimation using SGD, where \n",
        "\n",
        "$$\\mathbb{P}[a_t\\mid s_t]=\\frac{\\exp\\{\\eta Q^*_w(s,a)\\}}{\\sum_{a'}\\exp\\{\\eta_Q Q^*_w(s,a')\\}},$$\n",
        "\n",
        "where $Q^*_w$ is the optimal $Q$-function for the MDP with reward $w^\\top\\phi$."
      ]
    },
    {
      "cell_type": "code",
      "execution_count": 9,
      "metadata": {
        "id": "O-ltVWL7J76n"
      },
      "outputs": [],
      "source": [
        "def policy_feat(pol, feat):\n",
        "    '''\n",
        "    Compute the policy-weighted feature matrix. \n",
        "    \"pol\" can be a single action index or a full \n",
        "    |S| x |A| policy matrix.\n",
        "    \n",
        "    :param pol: int (action index) or np.array with shape (|S|, |A|) (policy)\n",
        "    :param feat: tuple (each element is a (|S|, |A|)-shaped np.array)\n",
        "    :return: np.array with shape (|S|, |nfeat|)\n",
        "    '''\n",
        "    \n",
        "    if isinstance(pol, int):\n",
        "        return np.hstack([feat[m][:, pol, None] for m in range(len(feat))])\n",
        "    \n",
        "    else:\n",
        "        return np.hstack([np.sum(feat[m] * pol, axis=1, keepdims=True) for m in range(len(feat))])\n",
        "    \n",
        "# --\n",
        "\n",
        "def policy_trans(pol, P):\n",
        "    '''\n",
        "    Compute the policy-weighted transition probabilities.\n",
        "    \n",
        "    :param pol: np.array with shape (|S|, |A|) (policy)\n",
        "    :param P: tuple (each element is a (|S|, |S|)-shaped np.array)\n",
        "    :return: np.array with shape (|S|, |S|)\n",
        "    '''\n",
        "    \n",
        "    return np.sum([np.diag(pol[:, a]).dot(P[a]) for a in range(len(A))], axis=0)\n",
        "\n",
        "# --\n",
        "\n",
        "def policy_rew(pol, r):\n",
        "    '''\n",
        "    Compute the policy-weighted reward.\n",
        "    \n",
        "    :param pol: np.array with shape (|S|, |A|) (policy)\n",
        "    :param r: np.array with shape (|S|, |A|) (reward)\n",
        "    :return: np.array with shape (|S|,)\n",
        "    '''\n",
        "    \n",
        "    return np.sum(pol * r, axis=1)\n",
        "\n",
        "# --\n",
        "\n",
        "def discounted_freq(pol, P):\n",
        "    '''\n",
        "    Compute the discounted visitation frequencies given a policy pol.\n",
        "    \n",
        "    :param pol: np.array with shape (|S|, |A|) (policy)\n",
        "    :param P: tuple (each element is a (|S|, |S|)-shaped np.array)\n",
        "    :return: np.array with shape (|S|, |S|)\n",
        "    '''\n",
        "    \n",
        "    Ppol = policy_trans(pol, P)\n",
        "    return (1 - gamma) * np.linalg.inv(np.eye(len(S)) - gamma * Ppol)\n",
        "\n",
        "# --\n",
        "    \n",
        "# Weight update\n",
        "def demo_update(wold, s, a, pol=None):\n",
        "    ''' \n",
        "    Updates the weights wold given the pair (s, a) and the weight wold. \n",
        "    The update is a SGD update on the negative log likelihood, assuming the\n",
        "    actions are selected from a Boltzmann distribution (pol, which can be\n",
        "    precomputed).\n",
        "    \n",
        "    :param wold: np.array with shape (|nfeat|,)\n",
        "    :param s: int (state index)\n",
        "    :param a: int (action index)\n",
        "    :param pol: np.array with shape (|S|, |A|) (policy)\n",
        "    :return: np.array with shape (nfeat,)\n",
        "    '''\n",
        "\n",
        "    if pol is None:\n",
        "        rhat = np.sum([RFEAT[m] * w[m] for m in range(len(RFEAT))], axis=0)\n",
        "        M = (S, A, P, rhat, gamma)\n",
        "        Q = vi(M)\n",
        "        pol = boltzmann(Q)\n",
        "\n",
        "    feat = policy_feat(greedy(Q), RFEAT) # (nS, nF)\n",
        "    disc = discounted_freq(greedy(Q), P) # (nS, nS)\n",
        "    \n",
        "    grad = np.zeros(wold.shape)\n",
        "\n",
        "    for a_idx in range(len(A)):\n",
        "              #              (nS, nF)                     (nS, nS) (nS, nS) (nS, nF)\n",
        "        grad += ETA_Q * (policy_feat(a_idx, RFEAT) + gamma * P[a_idx].dot(disc).dot(feat))[s, :] * (pol[s, a_idx] - int(a == a_idx))\n",
        "        \n",
        "    # Gradients are too small, so we push the step-size up\n",
        "    \n",
        "    wnew = wold - 2 * STEP * grad\n",
        "        \n",
        "    return wnew"
      ]
    },
    {
      "cell_type": "code",
      "execution_count": 10,
      "metadata": {
        "colab": {
          "base_uri": "https://localhost:8080/"
        },
        "id": "vQFCuICrJ76n",
        "outputId": "9d002a13-8328-42e0-ec9b-c3ebc598ecb5"
      },
      "outputs": [
        {
          "output_type": "stream",
          "name": "stdout",
          "text": [
            "policy_feat(.): (15, 3)\n",
            "policy_feat(.): (15, 3)\n",
            "policy_trans(.): (15, 15)\n",
            "policy_rew(.): (15,)\n",
            "discounted_freq(.): (15, 15)\n"
          ]
        }
      ],
      "source": [
        "print('policy_feat(.):', policy_feat(pol, RFEAT).shape)\n",
        "print('policy_feat(.):', policy_feat(0, RFEAT).shape)\n",
        "print('policy_trans(.):', policy_trans(pol, P).shape)\n",
        "print('policy_rew(.):', policy_rew(pol, r).shape)\n",
        "print('discounted_freq(.):', discounted_freq(pol, P).shape)"
      ]
    },
    {
      "cell_type": "markdown",
      "metadata": {
        "id": "r7k45CqBJ76o"
      },
      "source": [
        "## Contrastive examples updater\n",
        "\n",
        "We consider the following contrastive examples:\n",
        "\n",
        "- In state $s$ action $a$ is better than action $a'$ because it will eventually lead you through state $s'$ and that is good.\n",
        "- In state $s$ action $a$ is worse than action $a'$ because it will eventually lead you through state $s'$ and that is bad.\n",
        "\n",
        "We consider that, given the target reward $r$,\n",
        "\n",
        "- A state $s$ is good if $r^*(s)>0$ for the optimal policy $\\pi^*_r$ given that reward.\n",
        "- A state $s$ is bad if $r^*(s)<0$ for the optimal policy $\\pi^*_r$ given that reward.\n",
        "- An action $a$ is _better_ than an action $a'$ in state $s$ and leading to state $s'$ if the following two conditions are cumulatively met:\n",
        "\n",
        " - $Q^*(s,a)>Q^*(s,a')$ ($a$ is better than $a'$)\n",
        "    * The transition probabilities by first taking action $a$ and then following $\\pi^*$ lead to larger transition probability from $s$ to $s'$ than those same probabilities taking action $a'$.\n",
        "    \n",
        "- An action $a$ is _worse_ than an action $a'$ in state $s$ and leading to state $s'$ if the following two conditions are cumulatively met:\n",
        "\n",
        " - $Q^*(s,a)<Q^*(s,a')$ ($a$ is worse than $a'$)\n",
        "    * The transition probabilities by taking action $a$ in $s$ and following $\\pi^*$ elsewhere lead to larger transition probability from $s$ to $s'$ than those same probabilities taking action $a'$."
      ]
    },
    {
      "cell_type": "code",
      "execution_count": 11,
      "metadata": {
        "id": "MTFJKY7ZJ76o"
      },
      "outputs": [],
      "source": [
        "def sigmoid(z, eta):\n",
        "    ''' \n",
        "    Compute sigmoid function.\n",
        "    \n",
        "    :param z: float\n",
        "    :param eta: float\n",
        "    :return: float\n",
        "    '''\n",
        "    \n",
        "    return 1 / (1 + np.exp(-eta * z))\n",
        "\n",
        "# --"
      ]
    },
    {
      "cell_type": "markdown",
      "metadata": {
        "id": "mQ4Px7V8J76o"
      },
      "source": [
        "We perform maximum likelihood estimation using SGD, where \n",
        "\n",
        "$$\\mathbb{P}[(s,a,a',s',k)\\mid w]=\\sigma(kr_w(s'))\\sigma(k(Q(s,a)-Q(s,a')))\\mathbf{P}_{a}^\\infty(s'\\mid s)$$\n",
        "\n",
        "(see precise definition in the paper)."
      ]
    },
    {
      "cell_type": "code",
      "execution_count": 12,
      "metadata": {
        "id": "Uq4h5tnFJ76p"
      },
      "outputs": [],
      "source": [
        "# Weight update\n",
        "def explain_update(wold, s0, s1, a0, a1, k, Q=None):\n",
        "    '''\n",
        "    Updates the weights wold given the tuple (s0, s1, a0, a1, k) \n",
        "    and the weight wold. The update is a SGD update on the negative \n",
        "    log likelihood, assuming the distribution above.\n",
        "\n",
        "    '''\n",
        "    \n",
        "    # Compute policy\n",
        "    r = np.sum([RFEAT[m] * wold[m] for m in range(len(RFEAT))], axis=0)\n",
        "\n",
        "    if Q is None:\n",
        "        M = (S, A, P, r, gamma)\n",
        "        Q = vi(M)\n",
        "        \n",
        "    pol = boltzmann(Q)\n",
        "\n",
        "    paux = pol.copy()\n",
        "    paux[s0] = np.zeros(len(A))\n",
        "    paux[s0, a0] = 1.0\n",
        "        \n",
        "    # Component 1 - reward\n",
        "    fpol = policy_feat(greedy(Q), RFEAT)      # (nS, nF)\n",
        "    rpol = policy_rew(greedy(Q), r) # (nS,)\n",
        "\n",
        "    grad_R = ETA_R * k * fpol[s1, :] * (sigmoid(k * rpol[s1], ETA_R) - 1) # (nF,)\n",
        "    #print('grad_R:')\n",
        "    #print(grad_R)\n",
        "    \n",
        "    # Component 2 - Q-values\n",
        "    fa0 = policy_feat(a0, RFEAT)   # (nS, nF)\n",
        "    fa1 = policy_feat(a1, RFEAT)   # (nS, nF)\n",
        "    freq = discounted_freq(greedy(Q), P) # (nS, nS)\n",
        "\n",
        "    diff_Q = Q[s0, a0] - Q[s0, a1]       # scalar\n",
        "    diff_P = P[a0][s0, :] - P[a1][s0, :] # (nS,)\n",
        "    diff_F = fa0[s0] - fa1[s0]           # (nF,)\n",
        "    \n",
        "    grad_Q = ETA_Q * k * (diff_F + gamma * diff_P.dot(freq).dot(fpol)) * (sigmoid(k * diff_Q, ETA_Q) - 1) # (nF,)\n",
        "    #print('grad_Q:')\n",
        "    #print(grad_Q)\n",
        "\n",
        "    # Component 3 - Pam\n",
        "    Pam = discounted_freq(paux, P) # (nS, nS)\n",
        "    pf = Pam.dot(fpol)             # (nS, nF)\n",
        "    \n",
        "    grad_P = np.zeros(len(RFEAT))\n",
        "    \n",
        "    for k in range(len(RFEAT)):\n",
        "        # for a single k\n",
        "        grad_aux = np.zeros((len(S), len(S)))\n",
        "\n",
        "        for a in range(len(A)):\n",
        "            for ap in range(len(A)):\n",
        "                fa  = policy_feat(a, RFEAT)  # (nS, nF)\n",
        "                fap = policy_feat(ap, RFEAT) # (nS, nF)\n",
        "                    #  (nS,)            (nS, nS) (nS, nS) (nS,)\n",
        "                dT  = fap[:, k] + gamma * P[ap].dot(freq).dot(fpol[:, k]) # (nS,)\n",
        "                tmp = ETA_Q * np.diag(paux[:, a] * dT * (pol[:, ap] - int(a == ap))).dot(P[a]) # (nS, nS)\n",
        "\n",
        "                grad_aux += tmp\n",
        "\n",
        "        dPk = Pam.dot(grad_aux).dot(Pam)      # (nS, nS)\n",
        "        if np.isclose(Pam[s0, s1], 0) and not np.isclose(dPk[s0, s1], 0):\n",
        "            print('Whoa! Zero!')\n",
        "            print('dPk:', dPk[s0, s1])\n",
        "\n",
        "        elif np.isclose(Pam[s0, s1], 0):\n",
        "            grad_P[k] = 0.                        # scalar\n",
        "\n",
        "        else:\n",
        "            grad_P[k] = dPk[s0, s1] / Pam[s0, s1] # scalar\n",
        "        \n",
        "    #print('grad_P:')\n",
        "    #print(grad_P)\n",
        "    \n",
        "    grad = grad_R + grad_Q + grad_P\n",
        "    \n",
        "    wnew = wold - STEP * grad\n",
        "    \n",
        "    return wnew"
      ]
    },
    {
      "cell_type": "code",
      "execution_count": 13,
      "metadata": {
        "colab": {
          "base_uri": "https://localhost:8080/"
        },
        "id": "EHi5ZyhkJ76p",
        "outputId": "d6a36af7-4437-494c-c6f5-f4ad65c07d95"
      },
      "outputs": [
        {
          "output_type": "stream",
          "name": "stdout",
          "text": [
            "P[a][s, :]: (15,)\n",
            "freq: (15, 15)\n",
            "fpol: (15, 3)\n",
            "P[a][s, :].dot(freq): (15,)\n",
            "P[a][s, :].dot(freq).dot(fpol): (3,)\n"
          ]
        }
      ],
      "source": [
        "freq = discounted_freq(pol, P)\n",
        "fpol = policy_feat(pol, RFEAT)\n",
        "print('P[a][s, :]:', P[0][0, :].shape)\n",
        "print('freq:', freq.shape)\n",
        "print('fpol:', fpol.shape)\n",
        "print('P[a][s, :].dot(freq):', P[0][0, :].dot(freq).shape)\n",
        "print('P[a][s, :].dot(freq).dot(fpol):', P[0][0, :].dot(freq).dot(fpol).shape)"
      ]
    },
    {
      "cell_type": "markdown",
      "metadata": {
        "id": "2b_HimgRJ76p"
      },
      "source": [
        "## Experiments\n",
        "\n",
        "We now generate a random reward, and compare the performance of an RL updater, a demo updater and an contrastive examples updater in randomly selected sample rewards, demos and contrastive examples.\n",
        "\n",
        "We start by defining the samplers."
      ]
    },
    {
      "cell_type": "code",
      "execution_count": 14,
      "metadata": {
        "id": "EaY9kXR1J76p"
      },
      "outputs": [],
      "source": [
        "def sample_reward(M):\n",
        "    ''' Samples a reward for MDP M. '''\n",
        "\n",
        "    S = M[0]\n",
        "    A = M[1]\n",
        "    R = M[3]\n",
        "    \n",
        "    # Sample a random state\n",
        "    sample_s = np.random.choice(len(S))\n",
        "    \n",
        "    # Sample a random action\n",
        "    sample_a = np.random.choice(len(A))\n",
        "    \n",
        "    # Sample a noisy reward\n",
        "    sample_r = R[sample_s, sample_a] + np.random.randn() / ETA_R\n",
        "    \n",
        "    return (sample_s, sample_a, sample_r)\n",
        "\n",
        "# -- \n",
        "\n",
        "def voice_reward(M, s, a, r):\n",
        "    ''' Converts a reward sample into a natural language string. '''\n",
        "    \n",
        "    return 'The reward in state %s when performing action %s is %.2f.' % (M[0][s], M[1][a], r)"
      ]
    },
    {
      "cell_type": "code",
      "execution_count": 15,
      "metadata": {
        "colab": {
          "base_uri": "https://localhost:8080/",
          "height": 36
        },
        "id": "NlSSm3f0J76q",
        "outputId": "3a8060ac-187d-4936-c054-68cfe32e75b4"
      },
      "outputs": [
        {
          "output_type": "execute_result",
          "data": {
            "text/plain": [
              "'The reward in state 1 when performing action Down is 0.18.'"
            ],
            "application/vnd.google.colaboratory.intrinsic+json": {
              "type": "string"
            }
          },
          "metadata": {},
          "execution_count": 15
        }
      ],
      "source": [
        "voice_reward(M, *sample_reward(M))"
      ]
    },
    {
      "cell_type": "code",
      "execution_count": 16,
      "metadata": {
        "id": "YJNptXPOJ76q"
      },
      "outputs": [],
      "source": [
        "def sample_demo(M):\n",
        "    ''' Samples a demonstration for MDP M. '''\n",
        "\n",
        "    S = M[0]\n",
        "    A = M[1]\n",
        "    \n",
        "    # Sample a random state\n",
        "    sample_s = np.random.choice(len(S))\n",
        "\n",
        "    # Sample a noisy action\n",
        "    Q = vi(M)\n",
        "    pol = boltzmann(Q)[sample_s, :]\n",
        "    sample_a = np.random.choice(len(A), p=pol)\n",
        "    \n",
        "    return (sample_s, sample_a)\n",
        "\n",
        "# --\n",
        "\n",
        "def voice_demo(M, s, a):\n",
        "    ''' Converts a demonstration sample into a natural language string. '''\n",
        "\n",
        "    return 'In state %s you should perform action %s.' % (M[0][s], M[1][a])"
      ]
    },
    {
      "cell_type": "code",
      "execution_count": 17,
      "metadata": {
        "colab": {
          "base_uri": "https://localhost:8080/",
          "height": 54
        },
        "id": "6G6YXh88J76q",
        "outputId": "3787c8d4-4ef7-42c7-dfff-d33e7fed0b68"
      },
      "outputs": [
        {
          "output_type": "stream",
          "name": "stdout",
          "text": [
            "[1. 1. 1. 1. 1. 1. 1. 1. 1. 1. 1. 1. 1. 1. 1.]\n"
          ]
        },
        {
          "output_type": "execute_result",
          "data": {
            "text/plain": [
              "'In state 6 you should perform action No-Op.'"
            ],
            "application/vnd.google.colaboratory.intrinsic+json": {
              "type": "string"
            }
          },
          "metadata": {},
          "execution_count": 17
        }
      ],
      "source": [
        "Q = vi(M)\n",
        "pol = boltzmann(Q)\n",
        "print(pol.sum(axis=1))\n",
        "voice_demo(M, *sample_demo(M))"
      ]
    },
    {
      "cell_type": "code",
      "execution_count": 18,
      "metadata": {
        "id": "s_RXa80KJ76q"
      },
      "outputs": [],
      "source": [
        "def sample_explain(M, echo=False):\n",
        "    ''' Samples an contrastive examples for MDP M. '''\n",
        "\n",
        "    S = M[0]\n",
        "    A = M[1]\n",
        "    P = M[2]\n",
        "    R = M[3]\n",
        "    gamma = M[4]\n",
        "    \n",
        "    Q = vi(M)\n",
        "    pol = boltzmann(Q)\n",
        "    rpol = policy_rew(pol, R)\n",
        "\n",
        "    sample_complete = False\n",
        "    \n",
        "    while not sample_complete:\n",
        "        \n",
        "        # This ensures that the search for next state doesn't go on forever\n",
        "        stop_sample = False\n",
        "        \n",
        "        # Sample a random initial state\n",
        "        sample_s0 = np.random.choice(len(S))\n",
        "        \n",
        "        if echo:\n",
        "            print('Sampled state %s' % S[sample_s0])\n",
        "\n",
        "        # Sample a random initial action\n",
        "        sample_a0 = np.random.choice(len(A))\n",
        "        \n",
        "        if echo:\n",
        "            print('Sampled action %s' % A[sample_a0])\n",
        "\n",
        "        paux = pol.copy()\n",
        "        paux[sample_s0] = np.zeros(len(A))\n",
        "        paux[sample_s0, sample_a0] = 1.0\n",
        "        \n",
        "        Pam = discounted_freq(paux, P)\n",
        "\n",
        "        # Sample a random second action (different from the first)\n",
        "        quit = False\n",
        "        while not quit:\n",
        "            sample_a1 = np.random.choice(len(A))\n",
        "            quit = sample_a1 != sample_a0\n",
        "\n",
        "        if echo:\n",
        "            print('Sampled another action: %s' % A[sample_a1])\n",
        "\n",
        "        # Sample a random via state with non-zero reward (to fit the \"good\" or \"bad\" description)\n",
        "\n",
        "        quit = False\n",
        "        while not quit:\n",
        "            paux = np.maximum(rpol * (Q[sample_s0, sample_a0] - Q[sample_s0, sample_a1]) * Pam[sample_s0, :], 0)\n",
        "\n",
        "            # Ensure that there is a next state to sample\n",
        "            if np.isclose(np.sum(paux), 0):\n",
        "                if echo:\n",
        "                    print('Zero support distribution. Restarting sampling.')\n",
        "                stop_sample = True\n",
        "                quit = True\n",
        "            else:\n",
        "                paux = paux / paux.sum()\n",
        "                if np.isclose(paux[sample_s0], 1.):\n",
        "                    if echo:\n",
        "                        print('Departing from sink. Restarting sampling.')\n",
        "                    stop_sample = True\n",
        "                    quit = True\n",
        "                else:\n",
        "                    if echo:\n",
        "                        print(np.round(paux, 3))\n",
        "                    sample_s1 = np.random.choice(len(S), p=paux)\n",
        "                    quit = (sample_s1 != sample_s0)\n",
        "\n",
        "        if not stop_sample:\n",
        "            if echo:\n",
        "                print('Sampled another state: %s' % S[sample_s1])\n",
        "\n",
        "            # Check which one is better\n",
        "            if Q[sample_s0, sample_a0] > Q[sample_s0, sample_a1]:\n",
        "                k = 1\n",
        "            else:\n",
        "                k = -1\n",
        "                \n",
        "            sample_complete = True\n",
        "            \n",
        "    if echo:\n",
        "        print('Q(%s, %s) =' % (S[sample_s0], A[sample_a0]), Q[sample_s0, sample_a0])\n",
        "        print('Q(%s, %s) =' % (S[sample_s0], A[sample_a1]), Q[sample_s0, sample_a1])\n",
        "        print('reward(%s) =' % S[sample_s1], np.sum(R * pol, axis=1)[sample_s1])\n",
        "        print('P_m[%s](%s, %s) =' % (A[sample_a0], S[sample_s0], S[sample_s1]), Pam[sample_s0, sample_s1])\n",
        "        \n",
        "    return (sample_s0, sample_s1, sample_a0, sample_a1, k)\n",
        "\n",
        "# --\n",
        "        \n",
        "def voice_explain(M, s0, s1, a0, a1, k):\n",
        "    ''' Converts an exmplanation sample into a natural language string. '''\n",
        "\n",
        "    REL1 = ('better', 'worse')\n",
        "    REL2 = ('good', 'bad')\n",
        "    \n",
        "    k = 1 - (k + 1) // 2\n",
        "    \n",
        "    return 'In state %s, action %s is %s than %s because it may eventually lead you through state %s and that is %s.' % (M[0][s0], M[1][a0], REL1[k], M[1][a1], M[0][s1], REL2[k])\n"
      ]
    },
    {
      "cell_type": "code",
      "execution_count": 19,
      "metadata": {
        "colab": {
          "base_uri": "https://localhost:8080/",
          "height": 346
        },
        "id": "yQLwYih7J76r",
        "scrolled": false,
        "outputId": "7e80168e-c386-4660-f0a5-e4c79a84db51"
      },
      "outputs": [
        {
          "output_type": "stream",
          "name": "stdout",
          "text": [
            "Sampled state 13\n",
            "Sampled action No-Op\n",
            "Sampled another action: Right\n",
            "Zero support distribution. Restarting sampling.\n",
            "Sampled state 13\n",
            "Sampled action Left\n",
            "Sampled another action: Up\n",
            "Zero support distribution. Restarting sampling.\n",
            "Sampled state 14\n",
            "Sampled action Up\n",
            "Sampled another action: Down\n",
            "[0. 0. 0. 0. 0. 0. 0. 0. 0. 1. 0. 0. 0. 0. 0.]\n",
            "Sampled another state: 10\n",
            "Q(14, Up) = 16.614283573623823\n",
            "Q(14, Down) = 15.92041665797559\n",
            "reward(10) = 0.19096048511266883\n",
            "P_m[Up](14, 10) = 0.6290687153266841\n"
          ]
        },
        {
          "output_type": "execute_result",
          "data": {
            "text/plain": [
              "'In state 14, action Up is better than Down because it may eventually lead you through state 10 and that is good.'"
            ],
            "application/vnd.google.colaboratory.intrinsic+json": {
              "type": "string"
            }
          },
          "metadata": {},
          "execution_count": 19
        }
      ],
      "source": [
        "voice_explain(M, *sample_explain(M, echo=True))"
      ]
    },
    {
      "cell_type": "markdown",
      "metadata": {
        "id": "E5_t25yaJ76r"
      },
      "source": [
        "We now run a comparative study. Every 10 steps, for each of the three approaches, we:\n",
        "\n",
        "* Estimate the reward;\n",
        "* Compute the associated \"optimal\" policy;\n",
        "* Evaluate that policy in the correct MDP.\n",
        "\n",
        "The next function is used in the last step."
      ]
    },
    {
      "cell_type": "code",
      "execution_count": 20,
      "metadata": {
        "id": "1K4B1KnTJ76r"
      },
      "outputs": [],
      "source": [
        "def evaluate_reward(M, w):\n",
        "    ''' Computes the policy from weights w in the MDP M.'''\n",
        "\n",
        "    S = M[0]\n",
        "    A = M[1]\n",
        "    P = M[2]\n",
        "    R = M[3]\n",
        "    gamma = M[4]\n",
        "    \n",
        "    Raux = np.sum([w[i] * RFEAT[i] for i in range(len(RFEAT))], axis=0)\n",
        "    \n",
        "    Maux = (S, A, P, Raux, gamma)\n",
        "    pol  = greedy(vi(Maux))\n",
        "    \n",
        "    Ppol = policy_trans(pol, P)\n",
        "    Rpol = policy_rew(pol, R)\n",
        "    \n",
        "    Vaux = np.linalg.inv(np.eye(len(S)) - gamma * Ppol).dot(Rpol)\n",
        "\n",
        "    # Compute average value\n",
        "    return Vaux.sum() / len(S)"
      ]
    },
    {
      "cell_type": "markdown",
      "metadata": {
        "id": "yzbntx4sJ76r"
      },
      "source": [
        "We can now run our comparative study."
      ]
    },
    {
      "cell_type": "code",
      "execution_count": 21,
      "metadata": {
        "colab": {
          "base_uri": "https://localhost:8080/",
          "height": 49,
          "referenced_widgets": [
            "bd09808012e14ffabaeb2e3ebf461de3",
            "74b1ad1d52d141cc869adfdf3b54802c",
            "9a0c508ae5d54c538564a04f2cb667e6",
            "0158b3f8e8a043a0bf474cd8d8d17e21",
            "55869d9c62a04caa8cdb8138532d1053",
            "a6aaa5e2f6d846b980f993b7c964be9a",
            "3fc93ab0b58a44818f37649ed9ef82fe",
            "35b83e742de7475b999d75cb6fd61af7",
            "344b51abe9b3474ca52c11215844d12f",
            "29b2f53073654023a6ecdc45a28841d4",
            "ed9b3e1f986a4b55b7169c15fa9febfd"
          ]
        },
        "id": "KcBq_eJKJ76s",
        "scrolled": false,
        "outputId": "3e2c1fde-ff8a-495d-d3fa-e5ef076df3fa"
      },
      "outputs": [
        {
          "output_type": "display_data",
          "data": {
            "text/plain": [
              "  0%|          | 0/30 [00:00<?, ?it/s]"
            ],
            "application/vnd.jupyter.widget-view+json": {
              "version_major": 2,
              "version_minor": 0,
              "model_id": "bd09808012e14ffabaeb2e3ebf461de3"
            }
          },
          "metadata": {}
        }
      ],
      "source": [
        "# Simulation constants\n",
        "NRUNS = 30\n",
        "NSTEPS = 15\n",
        "\n",
        "# For performance statistics\n",
        "perf_rl   = np.zeros((NRUNS, NSTEPS))\n",
        "perf_demo = np.zeros((NRUNS, NSTEPS))\n",
        "perf_expl = np.zeros((NRUNS, NSTEPS))\n",
        "perf_ref  = np.zeros((NRUNS, NSTEPS))\n",
        "\n",
        "# For reproducibility\n",
        "np.random.seed(40)\n",
        "\n",
        "samples_expl = []\n",
        "samples_demos = []\n",
        "samples_rl = []\n",
        "\n",
        "# Run sims\n",
        "for run in trange(NRUNS):\n",
        "    \n",
        "    # Initialize a random reward\n",
        "    wopt = np.random.randn(len(RFEAT))\n",
        "    ropt = np.sum([wopt[i] * RFEAT[i] for i in range(len(RFEAT))], axis=0)\n",
        "    \n",
        "    #print('Reward:')\n",
        "    #print(np.round(ropt,2))\n",
        "                  \n",
        "    # This is the \"target\" MDP\n",
        "    Mopt = (S, A, P, ropt, gamma)\n",
        "    \n",
        "    # Optimal policy\n",
        "    popt = greedy(vi(Mopt))\n",
        "    \n",
        "    #print('Optimal policy:')\n",
        "    #print(np.round(popt, 2))\n",
        "    \n",
        "    # Weights for 3 approaches\n",
        "    w_rl   = np.zeros(len(RFEAT))\n",
        "    w_demo = np.zeros(len(RFEAT))\n",
        "    w_expl = np.zeros(len(RFEAT))\n",
        "    \n",
        "    # Run test\n",
        "    for t in range(NSTEPS):\n",
        "        #print('\\n[Step %i]' % (t + 1))\n",
        "\n",
        "        # Sample a reward and update\n",
        "        #print('Sampling reward... ')\n",
        "        (s, a, r) = sample_reward(Mopt)\n",
        "        #print('Updating weights for reward... ')\n",
        "        w_rl = rl_update(w_rl, s, a, r)\n",
        "        #print('Weights:')\n",
        "        #print(w_rl)\n",
        "\n",
        "        \n",
        "        # Evaluate\n",
        "        #print('Evaluating reward...')\n",
        "        perf_rl[run, t] = evaluate_reward(Mopt, w_rl)\n",
        "        samples_rl.append(perf_rl[run, t])\n",
        "        #print(voice_reward(Mopt, s, a, r))\n",
        "        \n",
        "        # Sample a demo and update\n",
        "        #print('\\nSampling demo... ')\n",
        "        (s, a) = sample_demo(Mopt)\n",
        "        #print('Updating weights for demo... ')\n",
        "        w_demo = demo_update(w_demo, s, a)\n",
        "        #print('Weights:')\n",
        "        #print(w_demo)\n",
        "\n",
        "        \n",
        "        # Evaluate\n",
        "        #print('Evaluating reward...')\n",
        "        perf_demo[run, t] = evaluate_reward(Mopt, w_demo)\n",
        "        samples_demos.append(perf_demo[run, t])\n",
        "        #print(voice_demo(Mopt, s, a))\n",
        "        \n",
        "        # Sample an contrastive examples and update\n",
        "        #print('\\nSampling contrastive examples... ')\n",
        "        (s0, s1, a0, a1, k) = sample_explain(Mopt)\n",
        "        \n",
        "        #print('Updating weights for contrastive examples... ')\n",
        "        w_expl = explain_update(w_expl, s0, s1, a0, a1, k)\n",
        "        #print('Weights:')\n",
        "        #print(w_expl)\n",
        "        \n",
        "        # Evaluate\n",
        "        #print('Evaluating reward...')\n",
        "        perf_expl[run, t] = evaluate_reward(Mopt, w_expl)\n",
        "        samples_expl.append(perf_expl[run, t])\n",
        "        #print(voice_explain(M, s0, s1, a0, a1, k))\n",
        "        \n",
        "        perf_ref[run, t] = evaluate_reward(Mopt, wopt)\n",
        "        \n",
        "        #print('Done. Step complete.')\n",
        "        \n",
        "# Compute statistics\n",
        "rl_mean = np.mean(perf_rl, axis=0)\n",
        "rl_std = np.std(perf_rl, axis=0) / np.sqrt(NRUNS)\n",
        "\n",
        "\n",
        "\n",
        "demo_mean = np.mean(perf_demo, axis=0)\n",
        "demo_std = np.std(perf_demo, axis=0) / np.sqrt(NRUNS)\n",
        "\n",
        "expl_mean = np.mean(perf_expl, axis=0)\n",
        "expl_std = np.std(perf_expl, axis=0) / np.sqrt(NRUNS)\n",
        "\n",
        "ref_mean = np.mean(perf_ref, axis=0)"
      ]
    },
    {
      "cell_type": "code",
      "source": [
        "ref_mean"
      ],
      "metadata": {
        "colab": {
          "base_uri": "https://localhost:8080/"
        },
        "id": "h2Ru-lqnA9k9",
        "outputId": "c4442efc-856b-4d91-b43e-68e6f5e22cb2"
      },
      "execution_count": 22,
      "outputs": [
        {
          "output_type": "execute_result",
          "data": {
            "text/plain": [
              "array([61.05452237, 61.05452237, 61.05452237, 61.05452237, 61.05452237,\n",
              "       61.05452237, 61.05452237, 61.05452237, 61.05452237, 61.05452237,\n",
              "       61.05452237, 61.05452237, 61.05452237, 61.05452237, 61.05452237])"
            ]
          },
          "metadata": {},
          "execution_count": 22
        }
      ]
    },
    {
      "cell_type": "code",
      "source": [
        "rl_min = np.min(rl_mean, axis=0)\n",
        "rl_range = np.max(rl_mean, axis=0) - np.min(rl_mean, axis=0)\n",
        "rl_norm = (rl_mean - rl_min)/rl_range\n",
        "rl_normstd = np.std(rl_norm, axis=0) / np.sqrt(NRUNS)\n",
        "\n",
        "demo_min = np.min(demo_mean, axis=0)\n",
        "demo_range = np.max(demo_mean, axis=0) - np.min(demo_mean, axis=0)\n",
        "demo_norm = (demo_mean - demo_min)/demo_range\n",
        "demo_normstd = np.std(demo_norm, axis=0) / np.sqrt(NRUNS)\n",
        "\n",
        "expl_min = np.min(expl_mean, axis=0)\n",
        "expl_range = np.max(expl_mean, axis=0) - np.min(expl_mean, axis=0)\n",
        "expl_norm = (expl_mean - expl_min)/expl_range\n",
        "expl_normstd = np.std(expl_norm, axis=0) / np.sqrt(NRUNS)\n",
        "\n",
        "\n",
        "ref_min = np.min(ref_mean)\n",
        "ref_range = np.max(ref_mean) - np.min(ref_mean)\n",
        "ref_norm = (ref_mean - ref_min)/ref_range"
      ],
      "metadata": {
        "colab": {
          "base_uri": "https://localhost:8080/"
        },
        "id": "5Wc3Y_dA-PVx",
        "outputId": "b260e5a5-993c-438c-d5b5-8235f8992b8f"
      },
      "execution_count": 23,
      "outputs": [
        {
          "output_type": "stream",
          "name": "stderr",
          "text": [
            "<ipython-input-23-a6cb8b7f165e>:19: RuntimeWarning: invalid value encountered in true_divide\n",
            "  ref_norm = (ref_mean - ref_min)/ref_range\n"
          ]
        }
      ]
    },
    {
      "cell_type": "code",
      "source": [
        "ref_min"
      ],
      "metadata": {
        "colab": {
          "base_uri": "https://localhost:8080/"
        },
        "id": "uExbHtK7-Tr0",
        "outputId": "34748c2f-ee24-4a96-d75d-c2b8a284f585"
      },
      "execution_count": 24,
      "outputs": [
        {
          "output_type": "execute_result",
          "data": {
            "text/plain": [
              "61.05452236561643"
            ]
          },
          "metadata": {},
          "execution_count": 24
        }
      ]
    },
    {
      "cell_type": "code",
      "source": [
        "rl_normstd"
      ],
      "metadata": {
        "colab": {
          "base_uri": "https://localhost:8080/"
        },
        "id": "K8EGpEea-hNd",
        "outputId": "c32625bd-9672-487e-ebd9-b8ea99050c8b"
      },
      "execution_count": 25,
      "outputs": [
        {
          "output_type": "execute_result",
          "data": {
            "text/plain": [
              "0.05525263294021012"
            ]
          },
          "metadata": {},
          "execution_count": 25
        }
      ]
    },
    {
      "cell_type": "code",
      "execution_count": 26,
      "metadata": {
        "colab": {
          "base_uri": "https://localhost:8080/",
          "height": 470
        },
        "id": "d3cHTDXIJ76s",
        "outputId": "64b09565-53aa-456f-ef9c-8490e0201d70"
      },
      "outputs": [
        {
          "output_type": "display_data",
          "data": {
            "text/plain": [
              "<Figure size 400x500 with 1 Axes>"
            ],
            "image/png": "[encoded data removed]"
          },
          "metadata": {}
        }
      ],
      "source": [
        "# Plot\n",
        "plt.figure(figsize=(4, 5))\n",
        "plt.fill_between(range(NSTEPS), rl_mean + rl_std, rl_mean - rl_std, color='g', alpha=0.1)\n",
        "plt.fill_between(range(NSTEPS), demo_mean + demo_std, demo_mean - demo_std, color='r', alpha=0.1)\n",
        "plt.fill_between(range(NSTEPS), expl_mean + expl_std, expl_mean - expl_std, color='b', alpha=0.1)\n",
        "plt.plot(range(NSTEPS), rl_mean, 'g:', label='LfR')\n",
        "plt.plot(range(NSTEPS), demo_mean, 'r--', label='LfD')\n",
        "plt.plot(range(NSTEPS), expl_mean, 'b-', label='LfCE')\n",
        "plt.plot(range(NSTEPS), ref_mean, 'k:', label='Optimal')\n",
        "#plt.xlabel('N. samples')\n",
        "#plt.ylabel(r'$||V_\\pi||_2$')\n",
        "plt.xlabel('Teaching signals')\n",
        "plt.ylabel('Average return')\n",
        "plt.ylim(0, 120)\n",
        "plt.xticks(range(0, 15))\n",
        "plt.legend(loc='best')\n",
        "plt.show()"
      ]
    },
    {
      "cell_type": "code",
      "source": [
        "wopt"
      ],
      "metadata": {
        "colab": {
          "base_uri": "https://localhost:8080/"
        },
        "id": "cpeZBFJm7nx8",
        "outputId": "7272d9dd-911d-48c6-fee7-49c3206046d3"
      },
      "execution_count": 27,
      "outputs": [
        {
          "output_type": "execute_result",
          "data": {
            "text/plain": [
              "array([-0.80559438, -1.25024501,  0.78905044])"
            ]
          },
          "metadata": {},
          "execution_count": 27
        }
      ]
    },
    {
      "cell_type": "code",
      "execution_count": 28,
      "metadata": {
        "colab": {
          "base_uri": "https://localhost:8080/"
        },
        "id": "SW_VyigwJ76s",
        "outputId": "08d8bf2d-39a8-4e4e-f8fe-bdc12bfa7a91"
      },
      "outputs": [
        {
          "output_type": "stream",
          "name": "stdout",
          "text": [
            "Optimal:\n",
            "[-0.80559438 -1.25024501  0.78905044]\n",
            "Contrastive Examples:\n",
            "[-0.00285149 -0.00392236  0.89322664]\n",
            "Demos:\n",
            "[-0.00241106 -0.25402383  0.09612059]\n",
            "RL:\n",
            "[-0.18596769 -0.22368096  0.26503212]\n"
          ]
        }
      ],
      "source": [
        "print('Optimal:')\n",
        "print(wopt)\n",
        "print('Contrastive Examples:')\n",
        "print(w_expl)\n",
        "print('Demos:')\n",
        "print(w_demo)\n",
        "print('RL:')\n",
        "print(w_rl)"
      ]
    },
    {
      "cell_type": "code",
      "source": [
        "wopt = [-0.80559438, -1.25024501,  0.78905044]\n",
        "w_expl = [-0.00285149, -0.00392236,  0.89322664]\n",
        "w_demos = [ 1.09113395e-17, -4.06255996e-01,  9.26802108e-02]\n",
        "w_rl = [-0.18596769, -0.22368096,  0.26503212]"
      ],
      "metadata": {
        "id": "tsDEYkQgyjiw"
      },
      "execution_count": 29,
      "outputs": []
    },
    {
      "cell_type": "code",
      "source": [
        "wopt_mean = np.mean(wopt)"
      ],
      "metadata": {
        "id": "ngSlcZRs_5K4"
      },
      "execution_count": 30,
      "outputs": []
    },
    {
      "cell_type": "code",
      "source": [
        "wexpl_mean = np.mean(w_expl)"
      ],
      "metadata": {
        "id": "AaTL51BB_--V"
      },
      "execution_count": 31,
      "outputs": []
    },
    {
      "cell_type": "code",
      "source": [
        "wdemos_mean = np.mean(w_demos)"
      ],
      "metadata": {
        "id": "sR21S7VhADkP"
      },
      "execution_count": 32,
      "outputs": []
    },
    {
      "cell_type": "code",
      "source": [
        "wrl_mean = np.mean(w_rl)"
      ],
      "metadata": {
        "id": "BDJKdbsjAINP"
      },
      "execution_count": 33,
      "outputs": []
    },
    {
      "cell_type": "code",
      "source": [
        "print(wopt_mean, wexpl_mean, wdemos_mean, wrl_mean)"
      ],
      "metadata": {
        "colab": {
          "base_uri": "https://localhost:8080/"
        },
        "id": "WxTGyGjlAM1n",
        "outputId": "2c51eabb-94b9-4d4a-9c60-5d70e9f64652"
      },
      "execution_count": 34,
      "outputs": [
        {
          "output_type": "stream",
          "name": "stdout",
          "text": [
            "-0.42226298333333334 0.29548426333333333 -0.10452526173333333 -0.04820551000000001\n"
          ]
        }
      ]
    },
    {
      "cell_type": "code",
      "source": [
        "expl_opt = wopt[0] - w_demos[0]\n",
        "expl_opt"
      ],
      "metadata": {
        "colab": {
          "base_uri": "https://localhost:8080/"
        },
        "id": "nGHNlFU-AWw3",
        "outputId": "de46d843-6689-4648-e064-90d884c8a16f"
      },
      "execution_count": 35,
      "outputs": [
        {
          "output_type": "execute_result",
          "data": {
            "text/plain": [
              "-0.80559438"
            ]
          },
          "metadata": {},
          "execution_count": 35
        }
      ]
    },
    {
      "cell_type": "code",
      "source": [
        "import scipy.stats\n",
        "from scipy.stats import f_oneway\n",
        "from scipy.stats import normaltest, ttest_rel, shapiro, mannwhitneyu, wilcoxon, ranksums, ttest_ind, kruskal, sem"
      ],
      "metadata": {
        "id": "G2_-AcfGzNvw"
      },
      "execution_count": 36,
      "outputs": []
    },
    {
      "cell_type": "code",
      "source": [
        "ttest_rel(perf_rl, perf_demo)"
      ],
      "metadata": {
        "colab": {
          "base_uri": "https://localhost:8080/"
        },
        "id": "ZLgI-BpRidIr",
        "outputId": "52971870-b37f-4501-8238-357ec05dde38"
      },
      "execution_count": 37,
      "outputs": [
        {
          "output_type": "execute_result",
          "data": {
            "text/plain": [
              "TtestResult(statistic=array([-1.27793327, -1.13314536, -0.78074495,  0.02751001, -0.54098063,\n",
              "       -1.2853725 , -0.95475253, -1.37754281, -2.28126511, -3.38298801,\n",
              "       -3.05575287, -3.03228008, -3.21306073, -2.97975579, -3.02189091]), pvalue=array([0.21140793, 0.26643481, 0.44127942, 0.9782414 , 0.59265256,\n",
              "       0.20883277, 0.34759425, 0.1788837 , 0.03006045, 0.0020702 ,\n",
              "       0.00478267, 0.00507279, 0.00320948, 0.00578374, 0.00520647]), df=array([29, 29, 29, 29, 29, 29, 29, 29, 29, 29, 29, 29, 29, 29, 29]))"
            ]
          },
          "metadata": {},
          "execution_count": 37
        }
      ]
    },
    {
      "cell_type": "code",
      "source": [
        "print('normal test, reward: ', normaltest(rl_mean), 'demostration', normaltest(demo_mean), 'explanation', normaltest(expl_mean))"
      ],
      "metadata": {
        "colab": {
          "base_uri": "https://localhost:8080/"
        },
        "id": "bdlFY-RAx34g",
        "outputId": "3fcf02f4-7f39-4718-c9be-003499d31631"
      },
      "execution_count": 38,
      "outputs": [
        {
          "output_type": "stream",
          "name": "stdout",
          "text": [
            "normal test, reward:  NormaltestResult(statistic=1.6712937179221419, pvalue=0.4335939165894206) demostration NormaltestResult(statistic=6.079618656299149, pvalue=0.047844011130685135) explanation NormaltestResult(statistic=29.66295672849111, pvalue=3.620518641517437e-07)\n"
          ]
        },
        {
          "output_type": "stream",
          "name": "stderr",
          "text": [
            "/usr/local/lib/python3.10/dist-packages/scipy/stats/_stats_py.py:1736: UserWarning: kurtosistest only valid for n>=20 ... continuing anyway, n=15\n",
            "  warnings.warn(\"kurtosistest only valid for n>=20 ... continuing \"\n"
          ]
        }
      ]
    },
    {
      "cell_type": "code",
      "source": [
        "mannwhitneyu(rl_mean,demo_mean)"
      ],
      "metadata": {
        "colab": {
          "base_uri": "https://localhost:8080/"
        },
        "id": "G-x-ciC3x8CR",
        "outputId": "4d2ae297-7ee1-4801-83ca-bc6a9f3ec366"
      },
      "execution_count": 39,
      "outputs": [
        {
          "output_type": "execute_result",
          "data": {
            "text/plain": [
              "MannwhitneyuResult(statistic=44.0, pvalue=0.004776024960228471)"
            ]
          },
          "metadata": {},
          "execution_count": 39
        }
      ]
    },
    {
      "cell_type": "code",
      "source": [
        "mannwhitneyu(wopt,w_expl)"
      ],
      "metadata": {
        "colab": {
          "base_uri": "https://localhost:8080/"
        },
        "id": "e0Xk-Rnay0NQ",
        "outputId": "5d8c8556-07ae-45a0-8948-c8c34d2dba73"
      },
      "execution_count": 40,
      "outputs": [
        {
          "output_type": "execute_result",
          "data": {
            "text/plain": [
              "MannwhitneyuResult(statistic=2.0, pvalue=0.4)"
            ]
          },
          "metadata": {},
          "execution_count": 40
        }
      ]
    },
    {
      "cell_type": "code",
      "source": [
        "mannwhitneyu(w_rl,w_expl)"
      ],
      "metadata": {
        "colab": {
          "base_uri": "https://localhost:8080/"
        },
        "id": "Vou5LzBhy4jQ",
        "outputId": "4f92de3e-797a-4785-c749-5052ffe904a0"
      },
      "execution_count": 41,
      "outputs": [
        {
          "output_type": "execute_result",
          "data": {
            "text/plain": [
              "MannwhitneyuResult(statistic=2.0, pvalue=0.4)"
            ]
          },
          "metadata": {},
          "execution_count": 41
        }
      ]
    },
    {
      "cell_type": "code",
      "source": [
        "mannwhitneyu(w_demo,w_expl)"
      ],
      "metadata": {
        "colab": {
          "base_uri": "https://localhost:8080/"
        },
        "id": "i_PRDW6Ry7o7",
        "outputId": "eb00f349-08c7-475b-d634-6143b3c6737b"
      },
      "execution_count": 42,
      "outputs": [
        {
          "output_type": "execute_result",
          "data": {
            "text/plain": [
              "MannwhitneyuResult(statistic=4.0, pvalue=1.0)"
            ]
          },
          "metadata": {},
          "execution_count": 42
        }
      ]
    },
    {
      "cell_type": "code",
      "source": [
        "mannwhitneyu(rl_mean,expl_mean)"
      ],
      "metadata": {
        "colab": {
          "base_uri": "https://localhost:8080/"
        },
        "id": "BPprhAUayBNa",
        "outputId": "a4798afb-4da4-4db3-cc26-b419a440f325"
      },
      "execution_count": 43,
      "outputs": [
        {
          "output_type": "execute_result",
          "data": {
            "text/plain": [
              "MannwhitneyuResult(statistic=4.0, pvalue=7.3214532961732006e-06)"
            ]
          },
          "metadata": {},
          "execution_count": 43
        }
      ]
    },
    {
      "cell_type": "code",
      "source": [
        "mannwhitneyu(demo_mean,expl_mean)"
      ],
      "metadata": {
        "colab": {
          "base_uri": "https://localhost:8080/"
        },
        "id": "gpCTHAU0yDN2",
        "outputId": "ace13592-611b-45e6-b955-8f4f6fd2429b"
      },
      "execution_count": 44,
      "outputs": [
        {
          "output_type": "execute_result",
          "data": {
            "text/plain": [
              "MannwhitneyuResult(statistic=16.0, pvalue=6.748052131560162e-05)"
            ]
          },
          "metadata": {},
          "execution_count": 44
        }
      ]
    },
    {
      "cell_type": "code",
      "source": [
        "ttest_rel(rl_mean,demo_mean)"
      ],
      "metadata": {
        "colab": {
          "base_uri": "https://localhost:8080/"
        },
        "id": "_4VzqSMgyNnH",
        "outputId": "5f0d5473-fafd-4cb8-b0b9-fdc4ac3237da"
      },
      "execution_count": 45,
      "outputs": [
        {
          "output_type": "execute_result",
          "data": {
            "text/plain": [
              "TtestResult(statistic=-8.347806126715604, pvalue=8.315740273608295e-07, df=14)"
            ]
          },
          "metadata": {},
          "execution_count": 45
        }
      ]
    },
    {
      "cell_type": "code",
      "source": [
        "ttest_rel(rl_mean,expl_mean)"
      ],
      "metadata": {
        "colab": {
          "base_uri": "https://localhost:8080/"
        },
        "id": "lOlJkPpNyQgg",
        "outputId": "a2349a22-3394-4cc2-dc32-015c7d15181b"
      },
      "execution_count": 46,
      "outputs": [
        {
          "output_type": "execute_result",
          "data": {
            "text/plain": [
              "TtestResult(statistic=-21.702958031833415, pvalue=3.542197589593881e-12, df=14)"
            ]
          },
          "metadata": {},
          "execution_count": 46
        }
      ]
    },
    {
      "cell_type": "code",
      "source": [
        "ttest_rel(expl_mean,demo_mean)"
      ],
      "metadata": {
        "colab": {
          "base_uri": "https://localhost:8080/"
        },
        "id": "ukSn--mbySu2",
        "outputId": "ee8c7855-b5ed-48a5-ceb1-0e3550972660"
      },
      "execution_count": 47,
      "outputs": [
        {
          "output_type": "execute_result",
          "data": {
            "text/plain": [
              "TtestResult(statistic=5.151712539350739, pvalue=0.00014703165267441895, df=14)"
            ]
          },
          "metadata": {},
          "execution_count": 47
        }
      ]
    }
  ],
  "metadata": {
    "colab": {
      "provenance": []
    },
    "kernelspec": {
      "display_name": "Python 3",
      "language": "python",
      "name": "python3"
    },
    "language_info": {
      "codemirror_mode": {
        "name": "ipython",
        "version": 3
      },
      "file_extension": ".py",
      "mimetype": "text/x-python",
      "name": "python",
      "nbconvert_exporter": "python",
      "pygments_lexer": "ipython3",
      "version": "3.7.4"
    },
    "latex_envs": {
      "LaTeX_envs_menu_present": true,
      "autoclose": false,
      "autocomplete": true,
      "bibliofile": "biblio.bib",
      "cite_by": "apalike",
      "current_citInitial": 1,
      "eqLabelWithNumbers": true,
      "eqNumInitial": 1,
      "hotkeys": {
        "equation": "Ctrl-E",
        "itemize": "Ctrl-I"
      },
      "labels_anchors": false,
      "latex_user_defs": false,
      "report_style_numbering": false,
      "user_envs_cfg": false
    },
    "widgets": {
      "application/vnd.jupyter.widget-state+json": {
        "bd09808012e14ffabaeb2e3ebf461de3": {
          "model_module": "@jupyter-widgets/controls",
          "model_name": "HBoxModel",
          "model_module_version": "1.5.0",
          "state": {
            "_dom_classes": [],
            "_model_module": "@jupyter-widgets/controls",
            "_model_module_version": "1.5.0",
            "_model_name": "HBoxModel",
            "_view_count": null,
            "_view_module": "@jupyter-widgets/controls",
            "_view_module_version": "1.5.0",
            "_view_name": "HBoxView",
            "box_style": "",
            "children": [
              "IPY_MODEL_74b1ad1d52d141cc869adfdf3b54802c",
              "IPY_MODEL_9a0c508ae5d54c538564a04f2cb667e6",
              "IPY_MODEL_0158b3f8e8a043a0bf474cd8d8d17e21"
            ],
            "layout": "IPY_MODEL_55869d9c62a04caa8cdb8138532d1053"
          }
        },
        "74b1ad1d52d141cc869adfdf3b54802c": {
          "model_module": "@jupyter-widgets/controls",
          "model_name": "HTMLModel",
          "model_module_version": "1.5.0",
          "state": {
            "_dom_classes": [],
            "_model_module": "@jupyter-widgets/controls",
            "_model_module_version": "1.5.0",
            "_model_name": "HTMLModel",
            "_view_count": null,
            "_view_module": "@jupyter-widgets/controls",
            "_view_module_version": "1.5.0",
            "_view_name": "HTMLView",
            "description": "",
            "description_tooltip": null,
            "layout": "IPY_MODEL_a6aaa5e2f6d846b980f993b7c964be9a",
            "placeholder": "​",
            "style": "IPY_MODEL_3fc93ab0b58a44818f37649ed9ef82fe",
            "value": "100%"
          }
        },
        "9a0c508ae5d54c538564a04f2cb667e6": {
          "model_module": "@jupyter-widgets/controls",
          "model_name": "FloatProgressModel",
          "model_module_version": "1.5.0",
          "state": {
            "_dom_classes": [],
            "_model_module": "@jupyter-widgets/controls",
            "_model_module_version": "1.5.0",
            "_model_name": "FloatProgressModel",
            "_view_count": null,
            "_view_module": "@jupyter-widgets/controls",
            "_view_module_version": "1.5.0",
            "_view_name": "ProgressView",
            "bar_style": "success",
            "description": "",
            "description_tooltip": null,
            "layout": "IPY_MODEL_35b83e742de7475b999d75cb6fd61af7",
            "max": 30,
            "min": 0,
            "orientation": "horizontal",
            "style": "IPY_MODEL_344b51abe9b3474ca52c11215844d12f",
            "value": 30
          }
        },
        "0158b3f8e8a043a0bf474cd8d8d17e21": {
          "model_module": "@jupyter-widgets/controls",
          "model_name": "HTMLModel",
          "model_module_version": "1.5.0",
          "state": {
            "_dom_classes": [],
            "_model_module": "@jupyter-widgets/controls",
            "_model_module_version": "1.5.0",
            "_model_name": "HTMLModel",
            "_view_count": null,
            "_view_module": "@jupyter-widgets/controls",
            "_view_module_version": "1.5.0",
            "_view_name": "HTMLView",
            "description": "",
            "description_tooltip": null,
            "layout": "IPY_MODEL_29b2f53073654023a6ecdc45a28841d4",
            "placeholder": "​",
            "style": "IPY_MODEL_ed9b3e1f986a4b55b7169c15fa9febfd",
            "value": " 30/30 [06:13&lt;00:00, 13.38s/it]"
          }
        },
        "55869d9c62a04caa8cdb8138532d1053": {
          "model_module": "@jupyter-widgets/base",
          "model_name": "LayoutModel",
          "model_module_version": "1.2.0",
          "state": {
            "_model_module": "@jupyter-widgets/base",
            "_model_module_version": "1.2.0",
            "_model_name": "LayoutModel",
            "_view_count": null,
            "_view_module": "@jupyter-widgets/base",
            "_view_module_version": "1.2.0",
            "_view_name": "LayoutView",
            "align_content": null,
            "align_items": null,
            "align_self": null,
            "border": null,
            "bottom": null,
            "display": null,
            "flex": null,
            "flex_flow": null,
            "grid_area": null,
            "grid_auto_columns": null,
            "grid_auto_flow": null,
            "grid_auto_rows": null,
            "grid_column": null,
            "grid_gap": null,
            "grid_row": null,
            "grid_template_areas": null,
            "grid_template_columns": null,
            "grid_template_rows": null,
            "height": null,
            "justify_content": null,
            "justify_items": null,
            "left": null,
            "margin": null,
            "max_height": null,
            "max_width": null,
            "min_height": null,
            "min_width": null,
            "object_fit": null,
            "object_position": null,
            "order": null,
            "overflow": null,
            "overflow_x": null,
            "overflow_y": null,
            "padding": null,
            "right": null,
            "top": null,
            "visibility": null,
            "width": null
          }
        },
        "a6aaa5e2f6d846b980f993b7c964be9a": {
          "model_module": "@jupyter-widgets/base",
          "model_name": "LayoutModel",
          "model_module_version": "1.2.0",
          "state": {
            "_model_module": "@jupyter-widgets/base",
            "_model_module_version": "1.2.0",
            "_model_name": "LayoutModel",
            "_view_count": null,
            "_view_module": "@jupyter-widgets/base",
            "_view_module_version": "1.2.0",
            "_view_name": "LayoutView",
            "align_content": null,
            "align_items": null,
            "align_self": null,
            "border": null,
            "bottom": null,
            "display": null,
            "flex": null,
            "flex_flow": null,
            "grid_area": null,
            "grid_auto_columns": null,
            "grid_auto_flow": null,
            "grid_auto_rows": null,
            "grid_column": null,
            "grid_gap": null,
            "grid_row": null,
            "grid_template_areas": null,
            "grid_template_columns": null,
            "grid_template_rows": null,
            "height": null,
            "justify_content": null,
            "justify_items": null,
            "left": null,
            "margin": null,
            "max_height": null,
            "max_width": null,
            "min_height": null,
            "min_width": null,
            "object_fit": null,
            "object_position": null,
            "order": null,
            "overflow": null,
            "overflow_x": null,
            "overflow_y": null,
            "padding": null,
            "right": null,
            "top": null,
            "visibility": null,
            "width": null
          }
        },
        "3fc93ab0b58a44818f37649ed9ef82fe": {
          "model_module": "@jupyter-widgets/controls",
          "model_name": "DescriptionStyleModel",
          "model_module_version": "1.5.0",
          "state": {
            "_model_module": "@jupyter-widgets/controls",
            "_model_module_version": "1.5.0",
            "_model_name": "DescriptionStyleModel",
            "_view_count": null,
            "_view_module": "@jupyter-widgets/base",
            "_view_module_version": "1.2.0",
            "_view_name": "StyleView",
            "description_width": ""
          }
        },
        "35b83e742de7475b999d75cb6fd61af7": {
          "model_module": "@jupyter-widgets/base",
          "model_name": "LayoutModel",
          "model_module_version": "1.2.0",
          "state": {
            "_model_module": "@jupyter-widgets/base",
            "_model_module_version": "1.2.0",
            "_model_name": "LayoutModel",
            "_view_count": null,
            "_view_module": "@jupyter-widgets/base",
            "_view_module_version": "1.2.0",
            "_view_name": "LayoutView",
            "align_content": null,
            "align_items": null,
            "align_self": null,
            "border": null,
            "bottom": null,
            "display": null,
            "flex": null,
            "flex_flow": null,
            "grid_area": null,
            "grid_auto_columns": null,
            "grid_auto_flow": null,
            "grid_auto_rows": null,
            "grid_column": null,
            "grid_gap": null,
            "grid_row": null,
            "grid_template_areas": null,
            "grid_template_columns": null,
            "grid_template_rows": null,
            "height": null,
            "justify_content": null,
            "justify_items": null,
            "left": null,
            "margin": null,
            "max_height": null,
            "max_width": null,
            "min_height": null,
            "min_width": null,
            "object_fit": null,
            "object_position": null,
            "order": null,
            "overflow": null,
            "overflow_x": null,
            "overflow_y": null,
            "padding": null,
            "right": null,
            "top": null,
            "visibility": null,
            "width": null
          }
        },
        "344b51abe9b3474ca52c11215844d12f": {
          "model_module": "@jupyter-widgets/controls",
          "model_name": "ProgressStyleModel",
          "model_module_version": "1.5.0",
          "state": {
            "_model_module": "@jupyter-widgets/controls",
            "_model_module_version": "1.5.0",
            "_model_name": "ProgressStyleModel",
            "_view_count": null,
            "_view_module": "@jupyter-widgets/base",
            "_view_module_version": "1.2.0",
            "_view_name": "StyleView",
            "bar_color": null,
            "description_width": ""
          }
        },
        "29b2f53073654023a6ecdc45a28841d4": {
          "model_module": "@jupyter-widgets/base",
          "model_name": "LayoutModel",
          "model_module_version": "1.2.0",
          "state": {
            "_model_module": "@jupyter-widgets/base",
            "_model_module_version": "1.2.0",
            "_model_name": "LayoutModel",
            "_view_count": null,
            "_view_module": "@jupyter-widgets/base",
            "_view_module_version": "1.2.0",
            "_view_name": "LayoutView",
            "align_content": null,
            "align_items": null,
            "align_self": null,
            "border": null,
            "bottom": null,
            "display": null,
            "flex": null,
            "flex_flow": null,
            "grid_area": null,
            "grid_auto_columns": null,
            "grid_auto_flow": null,
            "grid_auto_rows": null,
            "grid_column": null,
            "grid_gap": null,
            "grid_row": null,
            "grid_template_areas": null,
            "grid_template_columns": null,
            "grid_template_rows": null,
            "height": null,
            "justify_content": null,
            "justify_items": null,
            "left": null,
            "margin": null,
            "max_height": null,
            "max_width": null,
            "min_height": null,
            "min_width": null,
            "object_fit": null,
            "object_position": null,
            "order": null,
            "overflow": null,
            "overflow_x": null,
            "overflow_y": null,
            "padding": null,
            "right": null,
            "top": null,
            "visibility": null,
            "width": null
          }
        },
        "ed9b3e1f986a4b55b7169c15fa9febfd": {
          "model_module": "@jupyter-widgets/controls",
          "model_name": "DescriptionStyleModel",
          "model_module_version": "1.5.0",
          "state": {
            "_model_module": "@jupyter-widgets/controls",
            "_model_module_version": "1.5.0",
            "_model_name": "DescriptionStyleModel",
            "_view_count": null,
            "_view_module": "@jupyter-widgets/base",
            "_view_module_version": "1.2.0",
            "_view_name": "StyleView",
            "description_width": ""
          }
        }
      }
    }
  },
  "nbformat": 4,
  "nbformat_minor": 0
}