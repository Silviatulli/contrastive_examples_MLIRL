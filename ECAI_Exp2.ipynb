{
  "cells": [
    {
      "cell_type": "code",
      "execution_count": 2,
      "metadata": {
        "id": "6eXzKXL9J76b"
      },
      "outputs": [],
      "source": [
        "%matplotlib inline\n",
        "\n",
        "import numpy as np\n",
        "import matplotlib.pyplot as plt\n",
        "from tqdm.notebook import trange, tqdm\n",
        "\n",
        "ETA_Q = 5\n",
        "ETA_R = 5\n",
        "EPS = 1e-8\n",
        "STEP = 0.2"
      ]
    },
    {
      "cell_type": "markdown",
      "metadata": {
        "id": "g4GAQ9f1J76e"
      },
      "source": [
        "# The power of contrastive examples\n",
        "\n",
        "We compare RL, contrastive examples and demonstrations."
      ]
    },
    {
      "cell_type": "markdown",
      "metadata": {
        "id": "RgcJDZxsJ76g"
      },
      "source": [
        "## Environment definition\n",
        "\n",
        "The environment looks like this:\n",
        "\n",
        "```\n",
        " ---- ---- ---- \n",
        "|  1 |  2 |  3 |\n",
        " ---- ---- ---- \n",
        "|  4 |    |  5 |\n",
        " ----      ----    \n",
        "|  6 |    |  7 | \n",
        " ----      ----  \n",
        "|  8 |    |  9 |\n",
        " ---- ---- ---- \n",
        "| 10 | 11 | 12 |\n",
        " ---- ---- ---- \n",
        "```"
      ]
    },
    {
      "cell_type": "code",
      "execution_count": 3,
      "metadata": {
        "colab": {
          "base_uri": "https://localhost:8080/"
        },
        "id": "MhM-GZkGJ76g",
        "outputId": "00b5ef94-1f08-483d-9c71-5ebbd714b314"
      },
      "outputs": [
        {
          "output_type": "stream",
          "name": "stdout",
          "text": [
            "States: ['1', '2', '3', '4', '5', '6', '7', '8', '9', '10', '11', '12']\n"
          ]
        }
      ],
      "source": [
        "S = list(map(lambda x : str(x), range(1, 13)))\n",
        "\n",
        "print('States:', S)"
      ]
    },
    {
      "cell_type": "code",
      "execution_count": 4,
      "metadata": {
        "colab": {
          "base_uri": "https://localhost:8080/"
        },
        "id": "UlZgXAGoJ76h",
        "outputId": "02043b78-10ab-4b23-9549-40e7e4410c3f"
      },
      "outputs": [
        {
          "output_type": "stream",
          "name": "stdout",
          "text": [
            "Actions: ('Up', 'Down', 'Left', 'Right', 'No-Op')\n"
          ]
        }
      ],
      "source": [
        "A = ('Up', 'Down', 'Left', 'Right', 'No-Op')\n",
        "\n",
        "print('Actions:', A)"
      ]
    },
    {
      "cell_type": "code",
      "execution_count": 5,
      "metadata": {
        "colab": {
          "base_uri": "https://localhost:8080/"
        },
        "id": "7zPS3eBhJ76i",
        "outputId": "21e188fd-bbbb-41a0-9dc7-47d11ffb4cd0"
      },
      "outputs": [
        {
          "output_type": "stream",
          "name": "stdout",
          "text": [
            "Transition probabilities ok?\n",
            "\t- Action Up: True\n",
            "\t- Action Down: True\n",
            "\t- Action Left: True\n",
            "\t- Action Right: True\n",
            "\t- Action No-Op: True\n"
          ]
        }
      ],
      "source": [
        "#               1   2   3   4   5   6   7   8   9   10  11  12               \n",
        "Pu = np.array([[1., 0., 0., 0., 0., 0., 0., 0., 0., 0., 0., 0.],  # 1\n",
        "               [0., 1., 0., 0., 0., 0., 0., 0., 0., 0., 0., 0.],  # 2\n",
        "               [0., 0., 1., 0., 0., 0., 0., 0., 0., 0., 0., 0.],  # 3\n",
        "               [.8, 0., 0., .2, 0., 0., 0., 0., 0., 0., 0., 0.],  # 4\n",
        "               [0., 0., .8, 0., .2, 0., 0., 0., 0., 0., 0., 0.],  # 5\n",
        "               [0., 0., 0., .8, 0., .2, 0., 0., 0., 0., 0., 0.],  # 6\n",
        "               [0., 0., 0., 0., .8, 0., .2, 0., 0., 0., 0., 0.],  # 7\n",
        "               [0., 0., 0., 0., 0., .8, 0., .2, 0., 0., 0., 0.],  # 8\n",
        "               [0., 0., 0., 0., 0., 0., .8, 0., .2, 0., 0., 0.],  # 9\n",
        "               [0., 0., 0., 0., 0., 0., 0., .8, 0., .2, 0., 0.],  # 10\n",
        "               [0., 0., 0., 0., 0., 0., 0., 0., 0., 0., 1., 0.],  # 11\n",
        "               [0., 0., 0., 0., 0., 0., 0., 0., .8, 0., 0., .2]]) # 12\n",
        "\n",
        "#               1   2   3   4   5   6   7   8   9   10  11  12               \n",
        "Pd = np.array([[.2, 0., 0., .8, 0., 0., 0., 0., 0., 0., 0., 0.],  # 1\n",
        "               [0., 1., 0., 0., 0., 0., 0., 0., 0., 0., 0., 0.],  # 2\n",
        "               [0., 0., .2, 0., .8, 0., 0., 0., 0., 0., 0., 0.],  # 3\n",
        "               [0., 0., 0., .2, 0., .8, 0., 0., 0., 0., 0., 0.],  # 4\n",
        "               [0., 0., 0., 0., .2, 0., .8, 0., 0., 0., 0., 0.],  # 5\n",
        "               [0., 0., 0., 0., 0., .2, 0., .8, 0., 0., 0., 0.],  # 6\n",
        "               [0., 0., 0., 0., 0., 0., .2, 0., .8, 0., 0., 0.],  # 7\n",
        "               [0., 0., 0., 0., 0., 0., 0., .2, 0., .8, 0., 0.],  # 8\n",
        "               [0., 0., 0., 0., 0., 0., 0., 0., .2, 0., 0., .8],  # 9\n",
        "               [0., 0., 0., 0., 0., 0., 0., 0., 0., 1., 0., 0.],  # 10\n",
        "               [0., 0., 0., 0., 0., 0., 0., 0., 0., 0., 1., 0.],  # 11\n",
        "               [0., 0., 0., 0., 0., 0., 0., 0., 0., 0., 0., 1.]]) # 12\n",
        "\n",
        "\n",
        "#               1   2   3   4   5   6   7   8   9   10  11  12               \n",
        "Pl = np.array([[1., 0., 0., 0., 0., 0., 0., 0., 0., 0., 0., 0.],  # 1\n",
        "               [.8, .2, 0., 0., 0., 0., 0., 0., 0., 0., 0., 0.],  # 2\n",
        "               [0., .8, .2, 0., 0., 0., 0., 0., 0., 0., 0., 0.],  # 3\n",
        "               [0., 0., 0., 1., 0., 0., 0., 0., 0., 0., 0., 0.],  # 4\n",
        "               [0., 0., 0., 0., 1., 0., 0., 0., 0., 0., 0., 0.],  # 5\n",
        "               [0., 0., 0., 0., 0., 1., 0., 0., 0., 0., 0., 0.],  # 6\n",
        "               [0., 0., 0., 0., 0., 0., 1., 0., 0., 0., 0., 0.],  # 7\n",
        "               [0., 0., 0., 0., 0., 0., 0., 1., 0., 0., 0., 0.],  # 8\n",
        "               [0., 0., 0., 0., 0., 0., 0., 0., 1., 0., 0., 0.],  # 9\n",
        "               [0., 0., 0., 0., 0., 0., 0., 0., 0., 1., 0., 0.],  # 10\n",
        "               [0., 0., 0., 0., 0., 0., 0., 0., 0., .8, .2, 0.],  # 11\n",
        "               [0., 0., 0., 0., 0., 0., 0., 0., 0., 0., .8, .2]]) # 12\n",
        "\n",
        "\n",
        "#               1   2   3   4   5   6   7   8   9   10  11  12               \n",
        "Pr = np.array([[.2, .8, 0., 0., 0., 0., 0., 0., 0., 0., 0., 0.],  # 1\n",
        "               [0., .2, .8, 0., 0., 0., 0., 0., 0., 0., 0., 0.],  # 2\n",
        "               [0., 0., 1., 0., 0., 0., 0., 0., 0., 0., 0., 0.],  # 3\n",
        "               [0., 0., 0., 1., 0., 0., 0., 0., 0., 0., 0., 0.],  # 4\n",
        "               [0., 0., 0., 0., 1., 0., 0., 0., 0., 0., 0., 0.],  # 5\n",
        "               [0., 0., 0., 0., 0., 1., 0., 0., 0., 0., 0., 0.],  # 6\n",
        "               [0., 0., 0., 0., 0., 0., 1., 0., 0., 0., 0., 0.],  # 7\n",
        "               [0., 0., 0., 0., 0., 0., 0., 1., 0., 0., 0., 0.],  # 8\n",
        "               [0., 0., 0., 0., 0., 0., 0., 0., 1., 0., 0., 0.],  # 9\n",
        "               [0., 0., 0., 0., 0., 0., 0., 0., 0., .2, .8, 0.],  # 10\n",
        "               [0., 0., 0., 0., 0., 0., 0., 0., 0., 0., .2, .8],  # 11\n",
        "               [0., 0., 0., 0., 0., 0., 0., 0., 0., 0., 0., 1.]]) # 12\n",
        "\n",
        "Pn = np.eye(len(S))\n",
        "\n",
        "P = [Pu, Pd, Pl, Pr, Pn]\n",
        "\n",
        "print('Transition probabilities ok?')\n",
        "\n",
        "for aidx in range(len(A)):\n",
        "    print('\\t- Action %s:' % A[aidx], np.all(np.isclose(P[aidx].sum(axis=1), 1.)))\n",
        "    \n",
        "gamma = 0.99"
      ]
    },
    {
      "cell_type": "code",
      "execution_count": 6,
      "metadata": {
        "id": "utyA_tD3J76k"
      },
      "outputs": [],
      "source": [
        "# Rewards are a convex combination of 7 features/rewards\n",
        "CELL_GOAL = np.zeros((len(S), len(A)))\n",
        "CELL_GOAL[2, :] = 1\n",
        "\n",
        "CELL_6 = np.zeros((len(S), len(A)))\n",
        "CELL_6[7, :] = 1\n",
        "\n",
        "CELL_7 = np.zeros((len(S), len(A)))\n",
        "CELL_7[8, :] = 1\n",
        "\n",
        "\n",
        "RFEAT = (CELL_GOAL, CELL_6, CELL_7)"
      ]
    },
    {
      "cell_type": "markdown",
      "metadata": {
        "id": "zcthHE-sJ76k"
      },
      "source": [
        "## MDP solver\n",
        "\n",
        "The next function is used to compute the optimal $Q$-function for MDPs. For computational efficiency, we pre-compute the optimal $Q$-function for all MDPs."
      ]
    },
    {
      "cell_type": "code",
      "execution_count": 7,
      "metadata": {
        "id": "KOVzIT71J76l"
      },
      "outputs": [],
      "source": [
        "def vi(M):\n",
        "    ''' \n",
        "    Compute optimal Q-function for MDP M.\n",
        "\n",
        "    :param M: 5-tuple corresponding to MDP description: (S, A, P, R, gamma)\n",
        "    :return: np.array with shape (|S|, |A|), corresponding to Q* for M.\n",
        "    '''\n",
        "\n",
        "    S = M[0]\n",
        "    A = M[1]\n",
        "    P = M[2]\n",
        "    R = M[3]\n",
        "    gamma = M[4]\n",
        "    \n",
        "    Q = np.zeros((len(S), len(A)))\n",
        "    quit = False\n",
        "    niter = 0\n",
        "    \n",
        "    while not quit:\n",
        "        Qnew = np.zeros((len(S), len(A)))\n",
        "        V = np.max(Q, axis=1, keepdims=True)\n",
        "        for a in range(len(A)):\n",
        "            Qnew[:, a, None] = R[:, a, None] + gamma * P[a].dot(V)\n",
        "            \n",
        "        if np.linalg.norm(Q - Qnew) < EPS:\n",
        "            quit = True\n",
        "            \n",
        "        Q = Qnew\n",
        "        niter += 1\n",
        "        \n",
        "    # print('Finished after %i iterations.' % niter)\n",
        "    return Q\n",
        "\n",
        "# --\n",
        "\n",
        "def greedy(Q):\n",
        "    ''' \n",
        "    Compute greedy policy with respect to Q.\n",
        "    \n",
        "    :param Q: np.array with shape (|S|, |A|).\n",
        "    :return: np.array with shape (|S|, |A|), corresponding to pi_g(Q).\n",
        "    '''\n",
        "    \n",
        "    pol = (Q == np.max(Q, axis=1, keepdims=True)).astype(int)\n",
        "    pol = pol / np.sum(pol, axis=1, keepdims=True)\n",
        "\n",
        "    return pol\n",
        "\n",
        "# --\n",
        "\n",
        "def boltzmann(Q):\n",
        "    ''' \n",
        "    Computes the Boltzmann policy with respect to Q.\n",
        "\n",
        "    :param Q: np.array with shape (|S|, |A|).\n",
        "    :return: np.array with shape (|S|, |A|) corresponding to pi_B(Q).\n",
        "    '''\n",
        "    \n",
        "    Q = ETA_Q * (Q - np.max(Q, axis=1, keepdims=True))\n",
        "\n",
        "    pol = np.round(np.exp(Q), 3)\n",
        "    pol = pol / np.sum(pol, axis=1, keepdims=True)\n",
        "    \n",
        "    return pol\n",
        "\n",
        "# --"
      ]
    },
    {
      "cell_type": "code",
      "execution_count": 8,
      "metadata": {
        "id": "M462WAssJ76m"
      },
      "outputs": [],
      "source": [
        "w = np.random.randn(4)\n",
        "r = np.sum([RFEAT[m] * w[m] for m in range(len(RFEAT))], axis=0)\n",
        "M = (S, A, P, r, gamma)\n",
        "Q = vi(M)\n",
        "pol = boltzmann(Q)"
      ]
    },
    {
      "cell_type": "markdown",
      "metadata": {
        "id": "zHt6k7pbJ76m"
      },
      "source": [
        "## RL updater\n",
        "\n",
        "We perform maximum likelihood estimation using SGD, where \n",
        "\n",
        "$$r_t\\sim\\mathrm{Normal}(w^\\top\\phi(s_t,a_t);\\eta)$$"
      ]
    },
    {
      "cell_type": "code",
      "execution_count": 9,
      "metadata": {
        "id": "gGr9dYM7J76m"
      },
      "outputs": [],
      "source": [
        "# Weight update\n",
        "def rl_update(wold, s, a, r):\n",
        "    ''' \n",
        "    Updates the weights wold given the triplet (s, a, r) and the weight w. \n",
        "    The update is a Stochastic Gradient Descent (SGD) update on the negative log likelihood, assuming the\n",
        "    reward is disturbed by 0-mean Gaussian noise.\n",
        "    \n",
        "    :param wold: np.array with shape (nfeat,)\n",
        "    :param s: int (state index)\n",
        "    :param a: int (action index)\n",
        "    :param r: float (reward)\n",
        "    :return: np.array with shape (nfeat,)\n",
        "    '''\n",
        "    \n",
        "    feat = np.array([RFEAT[m][s, a] for m in range(len(RFEAT))])\n",
        "    \n",
        "    grad = feat * (feat.dot(wold) - r)    \n",
        "    wnew = wold - STEP * grad\n",
        "\n",
        "    return wnew"
      ]
    },
    {
      "cell_type": "markdown",
      "metadata": {
        "id": "-bLtdUSwJ76n"
      },
      "source": [
        "## Demonstration updater\n",
        "\n",
        "We perform maximum likelihood estimation using SGD, where \n",
        "\n",
        "$$\\mathbb{P}[a_t\\mid s_t]=\\frac{\\exp\\{\\eta Q^*_w(s,a)\\}}{\\sum_{a'}\\exp\\{\\eta_Q Q^*_w(s,a')\\}},$$\n",
        "\n",
        "where $Q^*_w$ is the optimal $Q$-function for the MDP with reward $w^\\top\\phi$."
      ]
    },
    {
      "cell_type": "code",
      "execution_count": 10,
      "metadata": {
        "id": "O-ltVWL7J76n"
      },
      "outputs": [],
      "source": [
        "def policy_feat(pol, feat):\n",
        "    '''\n",
        "    Compute the policy-weighted feature matrix. \n",
        "    \"pol\" can be a single action index or a full \n",
        "    |S| x |A| policy matrix.\n",
        "    \n",
        "    :param pol: int (action index) or np.array with shape (|S|, |A|) (policy)\n",
        "    :param feat: tuple (each element is a (|S|, |A|)-shaped np.array)\n",
        "    :return: np.array with shape (|S|, |nfeat|)\n",
        "    '''\n",
        "    \n",
        "    if isinstance(pol, int):\n",
        "        return np.hstack([feat[m][:, pol, None] for m in range(len(feat))])\n",
        "    \n",
        "    else:\n",
        "        return np.hstack([np.sum(feat[m] * pol, axis=1, keepdims=True) for m in range(len(feat))])\n",
        "    \n",
        "# --\n",
        "\n",
        "def policy_trans(pol, P):\n",
        "    '''\n",
        "    Compute the policy-weighted transition probabilities.\n",
        "    \n",
        "    :param pol: np.array with shape (|S|, |A|) (policy)\n",
        "    :param P: tuple (each element is a (|S|, |S|)-shaped np.array)\n",
        "    :return: np.array with shape (|S|, |S|)\n",
        "    '''\n",
        "    \n",
        "    return np.sum([np.diag(pol[:, a]).dot(P[a]) for a in range(len(A))], axis=0)\n",
        "\n",
        "# --\n",
        "\n",
        "def policy_rew(pol, r):\n",
        "    '''\n",
        "    Compute the policy-weighted reward.\n",
        "    \n",
        "    :param pol: np.array with shape (|S|, |A|) (policy)\n",
        "    :param r: np.array with shape (|S|, |A|) (reward)\n",
        "    :return: np.array with shape (|S|,)\n",
        "    '''\n",
        "    \n",
        "    return np.sum(pol * r, axis=1)\n",
        "\n",
        "# --\n",
        "\n",
        "def discounted_freq(pol, P):\n",
        "    '''\n",
        "    Compute the discounted visitation frequencies given a policy pol.\n",
        "    \n",
        "    :param pol: np.array with shape (|S|, |A|) (policy)\n",
        "    :param P: tuple (each element is a (|S|, |S|)-shaped np.array)\n",
        "    :return: np.array with shape (|S|, |S|)\n",
        "    '''\n",
        "    \n",
        "    Ppol = policy_trans(pol, P)\n",
        "    return (1 - gamma) * np.linalg.inv(np.eye(len(S)) - gamma * Ppol)\n",
        "\n",
        "# --\n",
        "    \n",
        "# Weight update\n",
        "def demo_update(wold, s, a, pol=None):\n",
        "    ''' \n",
        "    Updates the weights wold given the pair (s, a) and the weight wold. \n",
        "    The update is a SGD update on the negative log likelihood, assuming the\n",
        "    actions are selected from a Boltzmann distribution (pol, which can be\n",
        "    precomputed).\n",
        "    \n",
        "    :param wold: np.array with shape (|nfeat|,)\n",
        "    :param s: int (state index)\n",
        "    :param a: int (action index)\n",
        "    :param pol: np.array with shape (|S|, |A|) (policy)\n",
        "    :return: np.array with shape (nfeat,)\n",
        "    '''\n",
        "\n",
        "    if pol is None:\n",
        "        rhat = np.sum([RFEAT[m] * w[m] for m in range(len(RFEAT))], axis=0)\n",
        "        M = (S, A, P, rhat, gamma)\n",
        "        Q = vi(M)\n",
        "        pol = boltzmann(Q)\n",
        "\n",
        "    feat = policy_feat(greedy(Q), RFEAT) # (nS, nF)\n",
        "    disc = discounted_freq(greedy(Q), P) # (nS, nS)\n",
        "    \n",
        "    grad = np.zeros(wold.shape)\n",
        "\n",
        "    for a_idx in range(len(A)):\n",
        "              #              (nS, nF)                     (nS, nS) (nS, nS) (nS, nF)\n",
        "        grad += ETA_Q * (policy_feat(a_idx, RFEAT) + gamma * P[a_idx].dot(disc).dot(feat))[s, :] * (pol[s, a_idx] - int(a == a_idx))\n",
        "        \n",
        "    # Gradients are too small, so we push the step-size up\n",
        "    \n",
        "    wnew = wold - 2 * STEP * grad\n",
        "        \n",
        "    return wnew"
      ]
    },
    {
      "cell_type": "code",
      "execution_count": 11,
      "metadata": {
        "colab": {
          "base_uri": "https://localhost:8080/"
        },
        "id": "vQFCuICrJ76n",
        "outputId": "9661fb32-3b29-4d8d-9436-37260697b032"
      },
      "outputs": [
        {
          "output_type": "stream",
          "name": "stdout",
          "text": [
            "policy_feat(.): (12, 3)\n",
            "policy_feat(.): (12, 3)\n",
            "policy_trans(.): (12, 12)\n",
            "policy_rew(.): (12,)\n",
            "discounted_freq(.): (12, 12)\n"
          ]
        }
      ],
      "source": [
        "print('policy_feat(.):', policy_feat(pol, RFEAT).shape)\n",
        "print('policy_feat(.):', policy_feat(0, RFEAT).shape)\n",
        "print('policy_trans(.):', policy_trans(pol, P).shape)\n",
        "print('policy_rew(.):', policy_rew(pol, r).shape)\n",
        "print('discounted_freq(.):', discounted_freq(pol, P).shape)"
      ]
    },
    {
      "cell_type": "markdown",
      "metadata": {
        "id": "r7k45CqBJ76o"
      },
      "source": [
        "## Contrastive examples updater\n",
        "\n",
        "We consider the following contrastive examples:\n",
        "\n",
        "- In state $s$ action $a$ is better than action $a'$ because it will eventually lead you through state $s'$ and that is good.\n",
        "- In state $s$ action $a$ is worse than action $a'$ because it will eventually lead you through state $s'$ and that is bad.\n",
        "\n",
        "We consider that, given the target reward $r$,\n",
        "\n",
        "- A state $s$ is good if $r^*(s)>0$ for the optimal policy $\\pi^*_r$ given that reward.\n",
        "- A state $s$ is bad if $r^*(s)<0$ for the optimal policy $\\pi^*_r$ given that reward.\n",
        "- An action $a$ is _better_ than an action $a'$ in state $s$ and leading to state $s'$ if the following two conditions are cumulatively met:\n",
        "\n",
        " - $Q^*(s,a)>Q^*(s,a')$ ($a$ is better than $a'$)\n",
        "    * The transition probabilities by first taking action $a$ and then following $\\pi^*$ lead to larger transition probability from $s$ to $s'$ than those same probabilities taking action $a'$.\n",
        "    \n",
        "- An action $a$ is _worse_ than an action $a'$ in state $s$ and leading to state $s'$ if the following two conditions are cumulatively met:\n",
        "\n",
        " - $Q^*(s,a)<Q^*(s,a')$ ($a$ is worse than $a'$)\n",
        "    * The transition probabilities by taking action $a$ in $s$ and following $\\pi^*$ elsewhere lead to larger transition probability from $s$ to $s'$ than those same probabilities taking action $a'$."
      ]
    },
    {
      "cell_type": "code",
      "execution_count": 12,
      "metadata": {
        "id": "MTFJKY7ZJ76o"
      },
      "outputs": [],
      "source": [
        "def sigmoid(z, eta):\n",
        "    ''' \n",
        "    Compute sigmoid function.\n",
        "    \n",
        "    :param z: float\n",
        "    :param eta: float\n",
        "    :return: float\n",
        "    '''\n",
        "    \n",
        "    return 1 / (1 + np.exp(-eta * z))\n",
        "\n",
        "# --"
      ]
    },
    {
      "cell_type": "markdown",
      "metadata": {
        "id": "mQ4Px7V8J76o"
      },
      "source": [
        "We perform maximum likelihood estimation using SGD, where \n",
        "\n",
        "$$\\mathbb{P}[(s,a,a',s',k)\\mid w]=\\sigma(kr_w(s'))\\sigma(k(Q(s,a)-Q(s,a')))\\mathbf{P}_{a}^\\infty(s'\\mid s)$$\n",
        "\n",
        "(see precise definition in the paper)."
      ]
    },
    {
      "cell_type": "code",
      "execution_count": 13,
      "metadata": {
        "id": "Uq4h5tnFJ76p"
      },
      "outputs": [],
      "source": [
        "# Weight update\n",
        "def explain_update(wold, s0, s1, a0, a1, k, Q=None):\n",
        "    '''\n",
        "    Updates the weights wold given the tuple (s0, s1, a0, a1, k) \n",
        "    and the weight wold. The update is a SGD update on the negative \n",
        "    log likelihood, assuming the distribution above.\n",
        "    '''\n",
        "    \n",
        "    # Compute policy\n",
        "    r = np.sum([RFEAT[m] * wold[m] for m in range(len(RFEAT))], axis=0)\n",
        "\n",
        "    if Q is None:\n",
        "        M = (S, A, P, r, gamma)\n",
        "        Q = vi(M)\n",
        "        \n",
        "    pol = boltzmann(Q)\n",
        "\n",
        "    paux = pol.copy()\n",
        "    paux[s0] = np.zeros(len(A))\n",
        "    paux[s0, a0] = 1.0\n",
        "        \n",
        "    # Component 1 - reward\n",
        "    fpol = policy_feat(greedy(Q), RFEAT)      # (nS, nF)\n",
        "    rpol = policy_rew(greedy(Q), r) # (nS,)\n",
        "\n",
        "    grad_R = ETA_R * k * fpol[s1, :] * (sigmoid(k * rpol[s1], ETA_R) - 1) # (nF,)\n",
        "    #print('grad_R:')\n",
        "    #print(grad_R)\n",
        "    \n",
        "    # Component 2 - Q-values\n",
        "    fa0 = policy_feat(a0, RFEAT)   # (nS, nF)\n",
        "    fa1 = policy_feat(a1, RFEAT)   # (nS, nF)\n",
        "    freq = discounted_freq(greedy(Q), P) # (nS, nS)\n",
        "\n",
        "    diff_Q = Q[s0, a0] - Q[s0, a1]       # scalar\n",
        "    diff_P = P[a0][s0, :] - P[a1][s0, :] # (nS,)\n",
        "    diff_F = fa0[s0] - fa1[s0]           # (nF,)\n",
        "    \n",
        "    grad_Q = ETA_Q * k * (diff_F + gamma * diff_P.dot(freq).dot(fpol)) * (sigmoid(k * diff_Q, ETA_Q) - 1) # (nF,)\n",
        "    #print('grad_Q:')\n",
        "    #print(grad_Q)\n",
        "\n",
        "    # Component 3 - Pam\n",
        "    Pam = discounted_freq(paux, P) # (nS, nS)\n",
        "    pf = Pam.dot(fpol)             # (nS, nF)\n",
        "    \n",
        "    grad_P = np.zeros(len(RFEAT))\n",
        "    \n",
        "    for k in range(len(RFEAT)):\n",
        "        # for a single k\n",
        "        grad_aux = np.zeros((len(S), len(S)))\n",
        "\n",
        "        for a in range(len(A)):\n",
        "            for ap in range(len(A)):\n",
        "                fa  = policy_feat(a, RFEAT)  # (nS, nF)\n",
        "                fap = policy_feat(ap, RFEAT) # (nS, nF)\n",
        "                    #  (nS,)            (nS, nS) (nS, nS) (nS,)\n",
        "                dT  = fap[:, k] + gamma * P[ap].dot(freq).dot(fpol[:, k]) # (nS,)\n",
        "                tmp = ETA_Q * np.diag(paux[:, a] * dT * (pol[:, ap] - int(a == ap))).dot(P[a]) # (nS, nS)\n",
        "\n",
        "                grad_aux += tmp\n",
        "\n",
        "        dPk = Pam.dot(grad_aux).dot(Pam)      # (nS, nS)\n",
        "        if np.isclose(Pam[s0, s1], 0) and not np.isclose(dPk[s0, s1], 0):\n",
        "            print('Whoa! Zero!')\n",
        "            print('dPk:', dPk[s0, s1])\n",
        "\n",
        "        elif np.isclose(Pam[s0, s1], 0):\n",
        "            grad_P[k] = 0.                        # scalar\n",
        "\n",
        "        else:\n",
        "            grad_P[k] = dPk[s0, s1] / Pam[s0, s1] # scalar\n",
        "        \n",
        "    #print('grad_P:')\n",
        "    #print(grad_P)\n",
        "    \n",
        "    grad = grad_R + grad_Q + grad_P\n",
        "    \n",
        "    wnew = wold - STEP * grad\n",
        "    \n",
        "    return wnew"
      ]
    },
    {
      "cell_type": "code",
      "execution_count": 14,
      "metadata": {
        "colab": {
          "base_uri": "https://localhost:8080/"
        },
        "id": "EHi5ZyhkJ76p",
        "outputId": "6a61ed35-c776-4638-a16d-e1248e07bc70"
      },
      "outputs": [
        {
          "output_type": "stream",
          "name": "stdout",
          "text": [
            "P[a][s, :]: (12,)\n",
            "freq: (12, 12)\n",
            "fpol: (12, 3)\n",
            "P[a][s, :].dot(freq): (12,)\n",
            "P[a][s, :].dot(freq).dot(fpol): (3,)\n"
          ]
        }
      ],
      "source": [
        "freq = discounted_freq(pol, P)\n",
        "fpol = policy_feat(pol, RFEAT)\n",
        "print('P[a][s, :]:', P[0][0, :].shape)\n",
        "print('freq:', freq.shape)\n",
        "print('fpol:', fpol.shape)\n",
        "print('P[a][s, :].dot(freq):', P[0][0, :].dot(freq).shape)\n",
        "print('P[a][s, :].dot(freq).dot(fpol):', P[0][0, :].dot(freq).dot(fpol).shape)"
      ]
    },
    {
      "cell_type": "markdown",
      "metadata": {
        "id": "2b_HimgRJ76p"
      },
      "source": [
        "## Experiments\n",
        "\n",
        "We now generate a random reward, and compare the performance of an RL updater, a demo updater and an contrastive examples updater in randomly selected sample rewards, demos and contrastive examples.\n",
        "\n",
        "We start by defining the samplers."
      ]
    },
    {
      "cell_type": "code",
      "execution_count": 15,
      "metadata": {
        "id": "EaY9kXR1J76p"
      },
      "outputs": [],
      "source": [
        "def sample_reward(M):\n",
        "    ''' Samples a reward for MDP M. '''\n",
        "\n",
        "    S = M[0]\n",
        "    A = M[1]\n",
        "    R = M[3]\n",
        "    \n",
        "    # Sample a random state\n",
        "    sample_s = np.random.choice(len(S))\n",
        "    \n",
        "    # Sample a random action\n",
        "    sample_a = np.random.choice(len(A))\n",
        "    \n",
        "    # Sample a noisy reward\n",
        "    sample_r = R[sample_s, sample_a] + np.random.randn() / ETA_R\n",
        "    \n",
        "    return (sample_s, sample_a, sample_r)\n",
        "\n",
        "# -- \n",
        "\n",
        "def voice_reward(M, s, a, r):\n",
        "    ''' Converts a reward sample into a natural language string. '''\n",
        "    \n",
        "    return 'The reward in state %s when performing action %s is %.2f.' % (M[0][s], M[1][a], r)"
      ]
    },
    {
      "cell_type": "code",
      "execution_count": 16,
      "metadata": {
        "colab": {
          "base_uri": "https://localhost:8080/",
          "height": 36
        },
        "id": "NlSSm3f0J76q",
        "outputId": "c093f169-d179-48a6-b9f5-ffddecfde683"
      },
      "outputs": [
        {
          "output_type": "execute_result",
          "data": {
            "text/plain": [
              "'The reward in state 1 when performing action Down is -0.38.'"
            ],
            "application/vnd.google.colaboratory.intrinsic+json": {
              "type": "string"
            }
          },
          "metadata": {},
          "execution_count": 16
        }
      ],
      "source": [
        "voice_reward(M, *sample_reward(M))"
      ]
    },
    {
      "cell_type": "code",
      "execution_count": 17,
      "metadata": {
        "id": "YJNptXPOJ76q"
      },
      "outputs": [],
      "source": [
        "def sample_demo(M):\n",
        "    ''' Samples a demonstration for MDP M. '''\n",
        "\n",
        "    S = M[0]\n",
        "    A = M[1]\n",
        "    \n",
        "    # Sample a random state\n",
        "    sample_s = np.random.choice(len(S))\n",
        "\n",
        "    # Sample a noisy action\n",
        "    Q = vi(M)\n",
        "    pol = boltzmann(Q)[sample_s, :]\n",
        "    sample_a = np.random.choice(len(A), p=pol)\n",
        "    \n",
        "    return (sample_s, sample_a)\n",
        "\n",
        "# --\n",
        "\n",
        "def voice_demo(M, s, a):\n",
        "    ''' Converts a demonstration sample into a natural language string. '''\n",
        "\n",
        "    return 'In state %s you should perform action %s.' % (M[0][s], M[1][a])"
      ]
    },
    {
      "cell_type": "code",
      "execution_count": 18,
      "metadata": {
        "colab": {
          "base_uri": "https://localhost:8080/",
          "height": 54
        },
        "id": "6G6YXh88J76q",
        "outputId": "c5b02127-e0dd-4d33-ba1c-9ce9b8ccfa95"
      },
      "outputs": [
        {
          "output_type": "stream",
          "name": "stdout",
          "text": [
            "[1. 1. 1. 1. 1. 1. 1. 1. 1. 1. 1. 1.]\n"
          ]
        },
        {
          "output_type": "execute_result",
          "data": {
            "text/plain": [
              "'In state 10 you should perform action Down.'"
            ],
            "application/vnd.google.colaboratory.intrinsic+json": {
              "type": "string"
            }
          },
          "metadata": {},
          "execution_count": 18
        }
      ],
      "source": [
        "Q = vi(M)\n",
        "pol = boltzmann(Q)\n",
        "print(pol.sum(axis=1))\n",
        "voice_demo(M, *sample_demo(M))"
      ]
    },
    {
      "cell_type": "code",
      "execution_count": 19,
      "metadata": {
        "id": "s_RXa80KJ76q"
      },
      "outputs": [],
      "source": [
        "def sample_explain(M, echo=False):\n",
        "    ''' Samples an contrastive examples for MDP M. '''\n",
        "\n",
        "    S = M[0]\n",
        "    A = M[1]\n",
        "    P = M[2]\n",
        "    R = M[3]\n",
        "    gamma = M[4]\n",
        "    \n",
        "    Q = vi(M)\n",
        "    pol = boltzmann(Q)\n",
        "    rpol = policy_rew(pol, R)\n",
        "\n",
        "    sample_complete = False\n",
        "    \n",
        "    while not sample_complete:\n",
        "        \n",
        "        # This ensures that the search for next state doesn't go on forever\n",
        "        stop_sample = False\n",
        "        \n",
        "        # Sample a random initial state\n",
        "        sample_s0 = np.random.choice(len(S))\n",
        "        \n",
        "        if echo:\n",
        "            print('Sampled state %s' % S[sample_s0])\n",
        "\n",
        "        # Sample a random initial action\n",
        "        sample_a0 = np.random.choice(len(A))\n",
        "        \n",
        "        if echo:\n",
        "            print('Sampled action %s' % A[sample_a0])\n",
        "\n",
        "        paux = pol.copy()\n",
        "        paux[sample_s0] = np.zeros(len(A))\n",
        "        paux[sample_s0, sample_a0] = 1.0\n",
        "        \n",
        "        Pam = discounted_freq(paux, P)\n",
        "\n",
        "        # Sample a random second action (different from the first)\n",
        "        quit = False\n",
        "        while not quit:\n",
        "            sample_a1 = np.random.choice(len(A))\n",
        "            quit = sample_a1 != sample_a0\n",
        "\n",
        "        if echo:\n",
        "            print('Sampled another action: %s' % A[sample_a1])\n",
        "\n",
        "        # Sample a random via state with non-zero reward (to fit the \"good\" or \"bad\" description)\n",
        "\n",
        "        quit = False\n",
        "        while not quit:\n",
        "            paux = np.maximum(rpol * (Q[sample_s0, sample_a0] - Q[sample_s0, sample_a1]) * Pam[sample_s0, :], 0)\n",
        "\n",
        "            # Ensure that there is a next state to sample\n",
        "            if np.isclose(np.sum(paux), 0):\n",
        "                if echo:\n",
        "                    print('Zero support distribution. Restarting sampling.')\n",
        "                stop_sample = True\n",
        "                quit = True\n",
        "            else:\n",
        "                paux = paux / paux.sum()\n",
        "                if np.isclose(paux[sample_s0], 1.):\n",
        "                    if echo:\n",
        "                        print('Departing from sink. Restarting sampling.')\n",
        "                    stop_sample = True\n",
        "                    quit = True\n",
        "                else:\n",
        "                    if echo:\n",
        "                        print(np.round(paux, 3))\n",
        "                    sample_s1 = np.random.choice(len(S), p=paux)\n",
        "                    quit = (sample_s1 != sample_s0)\n",
        "\n",
        "        if not stop_sample:\n",
        "            if echo:\n",
        "                print('Sampled another state: %s' % S[sample_s1])\n",
        "\n",
        "            # Check which one is better\n",
        "            if Q[sample_s0, sample_a0] > Q[sample_s0, sample_a1]:\n",
        "                k = 1\n",
        "            else:\n",
        "                k = -1\n",
        "                \n",
        "            sample_complete = True\n",
        "            \n",
        "    if echo:\n",
        "        print('Q(%s, %s) =' % (S[sample_s0], A[sample_a0]), Q[sample_s0, sample_a0])\n",
        "        print('Q(%s, %s) =' % (S[sample_s0], A[sample_a1]), Q[sample_s0, sample_a1])\n",
        "        print('reward(%s) =' % S[sample_s1], np.sum(R * pol, axis=1)[sample_s1])\n",
        "        print('P_m[%s](%s, %s) =' % (A[sample_a0], S[sample_s0], S[sample_s1]), Pam[sample_s0, sample_s1])\n",
        "        \n",
        "    return (sample_s0, sample_s1, sample_a0, sample_a1, k)\n",
        "\n",
        "# --\n",
        "        \n",
        "def voice_explain(M, s0, s1, a0, a1, k):\n",
        "    ''' Converts an exmplanation sample into a natural language string. '''\n",
        "\n",
        "    REL1 = ('better', 'worse')\n",
        "    REL2 = ('good', 'bad')\n",
        "    \n",
        "    k = 1 - (k + 1) // 2\n",
        "    \n",
        "    return 'In state %s, action %s is %s than %s because it may eventually lead you through state %s and that is %s.' % (M[0][s0], M[1][a0], REL1[k], M[1][a1], M[0][s1], REL2[k])\n"
      ]
    },
    {
      "cell_type": "code",
      "execution_count": 20,
      "metadata": {
        "colab": {
          "base_uri": "https://localhost:8080/",
          "height": 346
        },
        "id": "yQLwYih7J76r",
        "scrolled": false,
        "outputId": "b7a3e06a-f4bc-46e6-d59e-95d0a2d29954"
      },
      "outputs": [
        {
          "output_type": "stream",
          "name": "stdout",
          "text": [
            "Sampled state 2\n",
            "Sampled action Down\n",
            "Sampled another action: No-Op\n",
            "Zero support distribution. Restarting sampling.\n",
            "Sampled state 7\n",
            "Sampled action Left\n",
            "Sampled another action: Right\n",
            "Zero support distribution. Restarting sampling.\n",
            "Sampled state 6\n",
            "Sampled action Up\n",
            "Sampled another action: Left\n",
            "[ 0.  0.  1.  0.  0.  0.  0.  0.  0. -0. -0. -0.]\n",
            "Sampled another state: 3\n",
            "Q(6, Up) = 31.52620995857553\n",
            "Q(6, Left) = 31.21094785771591\n",
            "reward(3) = 0.33148853482453977\n",
            "P_m[Up](6, 3) = 0.7787574779843445\n"
          ]
        },
        {
          "output_type": "execute_result",
          "data": {
            "text/plain": [
              "'In state 6, action Up is better than Left because it may eventually lead you through state 3 and that is good.'"
            ],
            "application/vnd.google.colaboratory.intrinsic+json": {
              "type": "string"
            }
          },
          "metadata": {},
          "execution_count": 20
        }
      ],
      "source": [
        "voice_explain(M, *sample_explain(M, echo=True))"
      ]
    },
    {
      "cell_type": "markdown",
      "metadata": {
        "id": "E5_t25yaJ76r"
      },
      "source": [
        "We now run a comparative study. Every 10 steps, for each of the three approaches, we:\n",
        "\n",
        "* Estimate the reward;\n",
        "* Compute the associated \"optimal\" policy;\n",
        "* Evaluate that policy in the correct MDP.\n",
        "\n",
        "The next function is used in the last step."
      ]
    },
    {
      "cell_type": "code",
      "execution_count": 21,
      "metadata": {
        "id": "1K4B1KnTJ76r"
      },
      "outputs": [],
      "source": [
        "def evaluate_reward(M, w):\n",
        "    ''' Computes the policy from weights w in the MDP M.'''\n",
        "\n",
        "    S = M[0]\n",
        "    A = M[1]\n",
        "    P = M[2]\n",
        "    R = M[3]\n",
        "    gamma = M[4]\n",
        "    \n",
        "    Raux = np.sum([w[i] * RFEAT[i] for i in range(len(RFEAT))], axis=0)\n",
        "    \n",
        "    Maux = (S, A, P, Raux, gamma)\n",
        "    pol  = greedy(vi(Maux))\n",
        "    \n",
        "    Ppol = policy_trans(pol, P)\n",
        "    Rpol = policy_rew(pol, R)\n",
        "    \n",
        "    Vaux = np.linalg.inv(np.eye(len(S)) - gamma * Ppol).dot(Rpol)\n",
        "\n",
        "    # Compute average value\n",
        "    return Vaux.sum() / len(S)"
      ]
    },
    {
      "cell_type": "markdown",
      "metadata": {
        "id": "yzbntx4sJ76r"
      },
      "source": [
        "We can now run our comparative study."
      ]
    },
    {
      "cell_type": "code",
      "execution_count": 22,
      "metadata": {
        "colab": {
          "base_uri": "https://localhost:8080/",
          "height": 49,
          "referenced_widgets": [
            "41b50f7bfd3b480a952593c96da0980b",
            "1131e727887c4030ad451a44f11870e9",
            "581f0a2815d44294a7084bfb2ed3ba95",
            "1764f7a1af18499c8ec767b06914f439",
            "021806461ab44c5abdd4629d6d268199",
            "e633f0851f984feea42c0f676462a47a",
            "e79702d34d7b426eb7f6612532abb0e1",
            "86248af124514eb995033fcd604c8fab",
            "39a5ec80a5234a7dbcdf7615df616518",
            "faade32c915f4120895baada845e1c90",
            "3274dd63da9747959237c72b1ab8a738"
          ]
        },
        "id": "KcBq_eJKJ76s",
        "scrolled": false,
        "outputId": "7ceca9b7-217e-4ef7-c5e7-769ce6b4add1"
      },
      "outputs": [
        {
          "output_type": "display_data",
          "data": {
            "text/plain": [
              "  0%|          | 0/30 [00:00<?, ?it/s]"
            ],
            "application/vnd.jupyter.widget-view+json": {
              "version_major": 2,
              "version_minor": 0,
              "model_id": "41b50f7bfd3b480a952593c96da0980b"
            }
          },
          "metadata": {}
        }
      ],
      "source": [
        "# Simulation constants\n",
        "NRUNS = 30\n",
        "NSTEPS = 15\n",
        "\n",
        "# For performance statistics\n",
        "perf_rl   = np.zeros((NRUNS, NSTEPS))\n",
        "perf_demo = np.zeros((NRUNS, NSTEPS))\n",
        "perf_expl = np.zeros((NRUNS, NSTEPS))\n",
        "perf_ref  = np.zeros((NRUNS, NSTEPS))\n",
        "\n",
        "# For reproducibility\n",
        "np.random.seed(40)\n",
        "\n",
        "samples_expl = []\n",
        "samples_demos = []\n",
        "samples_rl = []\n",
        "\n",
        "# Run sims\n",
        "for run in trange(NRUNS):\n",
        "    \n",
        "    # Initialize a random reward\n",
        "    wopt = np.random.randn(len(RFEAT))\n",
        "    ropt = np.sum([wopt[i] * RFEAT[i] for i in range(len(RFEAT))], axis=0)\n",
        "    \n",
        "    #print('Reward:')\n",
        "    #print(np.round(ropt,2))\n",
        "                  \n",
        "    # This is the \"target\" MDP\n",
        "    Mopt = (S, A, P, ropt, gamma)\n",
        "    \n",
        "    # Optimal policy\n",
        "    popt = greedy(vi(Mopt))\n",
        "    \n",
        "    #print('Optimal policy:')\n",
        "    #print(np.round(popt, 2))\n",
        "    \n",
        "    # Weights for 3 approaches\n",
        "    w_rl   = np.zeros(len(RFEAT))\n",
        "    w_demo = np.zeros(len(RFEAT))\n",
        "    w_expl = np.zeros(len(RFEAT))\n",
        "    \n",
        "    # Run test\n",
        "    for t in range(NSTEPS):\n",
        "        #print('\\n[Step %i]' % (t + 1))\n",
        "\n",
        "        # Sample a reward and update\n",
        "        #print('Sampling reward... ')\n",
        "        (s, a, r) = sample_reward(Mopt)\n",
        "        #print('Updating weights for reward... ')\n",
        "        w_rl = rl_update(w_rl, s, a, r)\n",
        "        #print('Weights:')\n",
        "        #print(w_rl)\n",
        "\n",
        "        \n",
        "        # Evaluate\n",
        "        #print('Evaluating reward...')\n",
        "        perf_rl[run, t] = evaluate_reward(Mopt, w_rl)\n",
        "       \n",
        "        #print(voice_reward(Mopt, s, a, r))\n",
        "        \n",
        "        # Sample a demo and update\n",
        "        #print('\\nSampling demo... ')\n",
        "        (s, a) = sample_demo(Mopt)\n",
        "        #print('Updating weights for demo... ')\n",
        "        w_demo = demo_update(w_demo, s, a)\n",
        "        #print('Weights:')\n",
        "        #print(w_demo)\n",
        "\n",
        "        \n",
        "        # Evaluate\n",
        "        #print('Evaluating reward...')\n",
        "        perf_demo[run, t] = evaluate_reward(Mopt, w_demo)\n",
        "        \n",
        "        #print(voice_demo(Mopt, s, a))\n",
        "        \n",
        "        # Sample an contrastive examples and update\n",
        "        #print('\\nSampling contrastive examples... ')\n",
        "        (s0, s1, a0, a1, k) = sample_explain(Mopt)\n",
        "        \n",
        "        #print('Updating weights for contrastive examples... ')\n",
        "        w_expl = explain_update(w_expl, s0, s1, a0, a1, k)\n",
        "        #print('Weights:')\n",
        "        #print(w_expl)\n",
        "        \n",
        "        # Evaluate\n",
        "        #print('Evaluating reward...')\n",
        "        perf_expl[run, t] = evaluate_reward(Mopt, w_expl)\n",
        "        \n",
        "        #print(voice_explain(M, s0, s1, a0, a1, k))\n",
        "        \n",
        "        perf_ref[run, t] = evaluate_reward(Mopt, wopt)\n",
        "        \n",
        "        #print('Done. Step complete.')\n",
        "        \n",
        "# Compute statistics\n",
        "rl_mean = np.mean(perf_rl, axis=0)\n",
        "rl_std = np.std(perf_rl, axis=0) / np.sqrt(NRUNS)\n",
        "\n",
        "demo_mean = np.mean(perf_demo, axis=0)\n",
        "demo_std = np.std(perf_demo, axis=0) / np.sqrt(NRUNS)\n",
        "\n",
        "expl_mean = np.mean(perf_expl, axis=0)\n",
        "expl_std = np.std(perf_expl, axis=0) / np.sqrt(NRUNS)\n",
        "\n",
        "ref_mean = np.mean(perf_ref, axis=0)"
      ]
    },
    {
      "cell_type": "code",
      "source": [
        "rl_min = np.min(rl_mean, axis=0)\n",
        "rl_range = np.max(rl_mean, axis=0) - np.min(rl_mean, axis=0)\n",
        "rl_norm = (rl_mean - rl_min)/rl_range\n",
        "rl_normstd = np.std(rl_norm, axis=0) / np.sqrt(NRUNS)\n",
        "\n",
        "demo_min = np.min(demo_mean, axis=0)\n",
        "demo_range = np.max(demo_mean, axis=0) - np.min(demo_mean, axis=0)\n",
        "demo_norm = (demo_mean - demo_min)/demo_range\n",
        "demo_normstd = np.std(demo_norm, axis=0) / np.sqrt(NRUNS)\n",
        "\n",
        "expl_min = np.min(expl_mean, axis=0)\n",
        "expl_range = np.max(expl_mean, axis=0) - np.min(expl_mean, axis=0)\n",
        "expl_norm = (expl_mean - expl_min)/expl_range\n",
        "expl_normstd = np.std(expl_norm, axis=0) / np.sqrt(NRUNS)\n",
        "\n",
        "\n",
        "ref_min = np.min(ref_mean)\n",
        "ref_range = np.max(ref_mean) - np.min(ref_mean)\n",
        "ref_norm = (ref_mean - ref_min)/ref_range\n"
      ],
      "metadata": {
        "colab": {
          "base_uri": "https://localhost:8080/"
        },
        "id": "SAFud7XsSAhF",
        "outputId": "ca343ac9-f22b-4a97-d8db-1c51f82a8983"
      },
      "execution_count": 23,
      "outputs": [
        {
          "output_type": "stream",
          "name": "stderr",
          "text": [
            "<ipython-input-23-a6cb8b7f165e>:19: RuntimeWarning: invalid value encountered in true_divide\n",
            "  ref_norm = (ref_mean - ref_min)/ref_range\n"
          ]
        }
      ]
    },
    {
      "cell_type": "code",
      "execution_count": 24,
      "metadata": {
        "colab": {
          "base_uri": "https://localhost:8080/",
          "height": 470
        },
        "id": "d3cHTDXIJ76s",
        "outputId": "391aa1b4-bb71-40b0-ac2b-e7f870a46679"
      },
      "outputs": [
        {
          "output_type": "display_data",
          "data": {
            "text/plain": [
              "<Figure size 400x500 with 1 Axes>"
            ],
            "image/png": "[encoded data removed]"
          },
          "metadata": {}
        }
      ],
      "source": [
        "# Plot\n",
        "plt.figure(figsize=(4, 5))\n",
        "plt.fill_between(range(NSTEPS), rl_mean + rl_std, rl_mean - rl_std, color='g', alpha=0.1)\n",
        "plt.fill_between(range(NSTEPS), demo_mean + demo_std, demo_mean - demo_std, color='r', alpha=0.1)\n",
        "plt.fill_between(range(NSTEPS), expl_mean + expl_std, expl_mean - expl_std, color='b', alpha=0.1)\n",
        "plt.plot(range(NSTEPS), rl_mean, 'g:', label='LfR')\n",
        "plt.plot(range(NSTEPS), demo_mean, 'r--', label='LfD')\n",
        "plt.plot(range(NSTEPS), expl_mean, 'b-', label='LfCE')\n",
        "plt.plot(range(NSTEPS), ref_mean, 'k:', label='Optimal')\n",
        "#plt.xlabel('N. samples')\n",
        "#plt.ylabel(r'$||V_\\pi||_2$')\n",
        "plt.xlabel('Teaching signals')\n",
        "plt.ylabel('Average return')\n",
        "plt.ylim(0, 120)\n",
        "plt.xticks(range(0, 15))\n",
        "plt.legend(loc='lower right')\n",
        "plt.show()"
      ]
    },
    {
      "cell_type": "code",
      "execution_count": 25,
      "metadata": {
        "colab": {
          "base_uri": "https://localhost:8080/"
        },
        "id": "SW_VyigwJ76s",
        "outputId": "24669735-eb43-407a-f121-ed0202bbee24"
      },
      "outputs": [
        {
          "output_type": "stream",
          "name": "stdout",
          "text": [
            "Optimal:\n",
            "[-2.27468901 -0.25581261  0.2578652 ]\n",
            "Contrastive Examples:\n",
            "[-0.56565847 -0.57387602  0.7746314 ]\n",
            "Demos:\n",
            "[-0.12874652 -0.00433172  0.06174637]\n",
            "RL:\n",
            "[-1.14462068  0.          0.        ]\n"
          ]
        }
      ],
      "source": [
        "print('Optimal:')\n",
        "print(wopt)\n",
        "print('Contrastive Examples:')\n",
        "print(w_expl)\n",
        "print('Demos:')\n",
        "print(w_demo)\n",
        "print('RL:')\n",
        "print(w_rl)"
      ]
    },
    {
      "cell_type": "code",
      "source": [
        "wopt = [-2.27468901, -0.25581261,  0.2578652 ]\n",
        "w_expl = [-0.56565847, -0.57387602,  0.7746314 ]\n",
        "w_demos = [-0.2506747,   0.,          0.05851921]\n",
        "w_rl = [-1.14462068,  0.,          0.        ]"
      ],
      "metadata": {
        "id": "WUK9Tl3KzGxZ"
      },
      "execution_count": 26,
      "outputs": []
    },
    {
      "cell_type": "code",
      "source": [
        "import scipy.stats\n",
        "from scipy.stats import f_oneway\n",
        "from scipy.stats import normaltest, ttest_rel, shapiro, mannwhitneyu, wilcoxon, ranksums, ttest_ind, kruskal, sem"
      ],
      "metadata": {
        "id": "LJcjetSjvpaJ"
      },
      "execution_count": 27,
      "outputs": []
    },
    {
      "cell_type": "code",
      "source": [
        "from scipy.stats.mstats_basic import Ttest_indResult\n",
        "ttest_rel(perf_demo, perf_rl)"
      ],
      "metadata": {
        "colab": {
          "base_uri": "https://localhost:8080/"
        },
        "id": "t4eV-vhmh3tr",
        "outputId": "8041c752-b6d2-4a26-c7ab-279b1cd68129"
      },
      "execution_count": 28,
      "outputs": [
        {
          "output_type": "stream",
          "name": "stderr",
          "text": [
            "<ipython-input-28-5d2c048752d8>:1: DeprecationWarning: Please use `Ttest_indResult` from the `scipy.stats` namespace, the `scipy.stats.mstats_basic` namespace is deprecated.\n",
            "  from scipy.stats.mstats_basic import Ttest_indResult\n"
          ]
        },
        {
          "output_type": "execute_result",
          "data": {
            "text/plain": [
              "TtestResult(statistic=array([ 0.9758447 ,  0.45076895,  0.60194464,  0.40784648,  2.00385341,\n",
              "        1.85868644,  1.49148567,  2.0435796 ,  1.48253231,  1.47923358,\n",
              "        0.86432665,  0.23613798, -0.18256843, -0.18166277, -0.58730324]), pvalue=array([0.33721191, 0.65550848, 0.55188853, 0.68638184, 0.05450633,\n",
              "       0.07324797, 0.14663286, 0.05017322, 0.14898519, 0.14985948,\n",
              "       0.39450171, 0.81498547, 0.85640697, 0.8571112 , 0.56154529]), df=array([29, 29, 29, 29, 29, 29, 29, 29, 29, 29, 29, 29, 29, 29, 29]))"
            ]
          },
          "metadata": {},
          "execution_count": 28
        }
      ]
    },
    {
      "cell_type": "code",
      "source": [
        "import scipy.stats\n",
        "from scipy.stats import f_oneway\n",
        "from scipy.stats import normaltest, ttest_rel, shapiro, mannwhitneyu, wilcoxon, ranksums, ttest_ind, kruskal, sem"
      ],
      "metadata": {
        "id": "VQfsUdTyul_5"
      },
      "execution_count": 1,
      "outputs": []
    },
    {
      "cell_type": "code",
      "source": [
        "ttest_rel(perf_demo[5], perf_rl[5])"
      ],
      "metadata": {
        "colab": {
          "base_uri": "https://localhost:8080/"
        },
        "id": "a2xUe-m2e87z",
        "outputId": "7b6a32b4-e572-4966-94d7-ffddd35ed212"
      },
      "execution_count": 29,
      "outputs": [
        {
          "output_type": "execute_result",
          "data": {
            "text/plain": [
              "TtestResult(statistic=-0.34563342286309545, pvalue=0.734756805129781, df=14)"
            ]
          },
          "metadata": {},
          "execution_count": 29
        }
      ]
    },
    {
      "cell_type": "code",
      "source": [
        "mannwhitneyu(rl_mean,demo_mean)"
      ],
      "metadata": {
        "id": "KOxoPso6utXY",
        "colab": {
          "base_uri": "https://localhost:8080/"
        },
        "outputId": "35dda6f9-0782-4c04-b948-aca9ece95058"
      },
      "execution_count": 30,
      "outputs": [
        {
          "output_type": "execute_result",
          "data": {
            "text/plain": [
              "MannwhitneyuResult(statistic=53.0, pvalue=0.014396852751179462)"
            ]
          },
          "metadata": {},
          "execution_count": 30
        }
      ]
    },
    {
      "cell_type": "code",
      "source": [
        "mannwhitneyu(rl_mean,expl_mean)"
      ],
      "metadata": {
        "id": "L2ltypYFu0f4",
        "colab": {
          "base_uri": "https://localhost:8080/"
        },
        "outputId": "795ea5d1-50fc-4b25-d6c7-e1bf57b4aaee"
      },
      "execution_count": 31,
      "outputs": [
        {
          "output_type": "execute_result",
          "data": {
            "text/plain": [
              "MannwhitneyuResult(statistic=1.0, pvalue=4.092505485946723e-06)"
            ]
          },
          "metadata": {},
          "execution_count": 31
        }
      ]
    },
    {
      "cell_type": "code",
      "source": [
        "mannwhitneyu(demo_mean,expl_mean)"
      ],
      "metadata": {
        "id": "wXeM5X1gu6o4",
        "colab": {
          "base_uri": "https://localhost:8080/"
        },
        "outputId": "7f118929-382d-491e-df76-2ea12d320056"
      },
      "execution_count": 32,
      "outputs": [
        {
          "output_type": "execute_result",
          "data": {
            "text/plain": [
              "MannwhitneyuResult(statistic=5.0, pvalue=8.969852672402501e-06)"
            ]
          },
          "metadata": {},
          "execution_count": 32
        }
      ]
    },
    {
      "cell_type": "code",
      "source": [
        "ttest_rel(rl_mean,demo_mean)"
      ],
      "metadata": {
        "id": "ueGaHcIQFivE",
        "colab": {
          "base_uri": "https://localhost:8080/"
        },
        "outputId": "f9a66c63-b322-4ee1-cb50-5178b67f4a35"
      },
      "execution_count": 33,
      "outputs": [
        {
          "output_type": "execute_result",
          "data": {
            "text/plain": [
              "TtestResult(statistic=-4.242349397289592, pvalue=0.0008202274506022108, df=14)"
            ]
          },
          "metadata": {},
          "execution_count": 33
        }
      ]
    },
    {
      "cell_type": "code",
      "source": [
        "ttest_rel(rl_mean,expl_mean)"
      ],
      "metadata": {
        "id": "tYcAfUjWuFHJ",
        "colab": {
          "base_uri": "https://localhost:8080/"
        },
        "outputId": "3a4be44c-f2ac-40b5-ba75-9f5598c356dd"
      },
      "execution_count": 34,
      "outputs": [
        {
          "output_type": "execute_result",
          "data": {
            "text/plain": [
              "TtestResult(statistic=-11.778996836073606, pvalue=1.1869481010475595e-08, df=14)"
            ]
          },
          "metadata": {},
          "execution_count": 34
        }
      ]
    },
    {
      "cell_type": "code",
      "source": [
        "ttest_rel(demo_mean,expl_mean)"
      ],
      "metadata": {
        "id": "a5EWFCCrvOhQ",
        "colab": {
          "base_uri": "https://localhost:8080/"
        },
        "outputId": "86a9f702-641c-40db-f406-19f82783da5c"
      },
      "execution_count": 35,
      "outputs": [
        {
          "output_type": "execute_result",
          "data": {
            "text/plain": [
              "TtestResult(statistic=-8.574141999189148, pvalue=6.056556742978775e-07, df=14)"
            ]
          },
          "metadata": {},
          "execution_count": 35
        }
      ]
    }
  ],
  "metadata": {
    "colab": {
      "provenance": []
    },
    "kernelspec": {
      "display_name": "Python 3",
      "language": "python",
      "name": "python3"
    },
    "language_info": {
      "codemirror_mode": {
        "name": "ipython",
        "version": 3
      },
      "file_extension": ".py",
      "mimetype": "text/x-python",
      "name": "python",
      "nbconvert_exporter": "python",
      "pygments_lexer": "ipython3",
      "version": "3.7.4"
    },
    "latex_envs": {
      "LaTeX_envs_menu_present": true,
      "autoclose": false,
      "autocomplete": true,
      "bibliofile": "biblio.bib",
      "cite_by": "apalike",
      "current_citInitial": 1,
      "eqLabelWithNumbers": true,
      "eqNumInitial": 1,
      "hotkeys": {
        "equation": "Ctrl-E",
        "itemize": "Ctrl-I"
      },
      "labels_anchors": false,
      "latex_user_defs": false,
      "report_style_numbering": false,
      "user_envs_cfg": false
    },
    "widgets": {
      "application/vnd.jupyter.widget-state+json": {
        "41b50f7bfd3b480a952593c96da0980b": {
          "model_module": "@jupyter-widgets/controls",
          "model_name": "HBoxModel",
          "model_module_version": "1.5.0",
          "state": {
            "_dom_classes": [],
            "_model_module": "@jupyter-widgets/controls",
            "_model_module_version": "1.5.0",
            "_model_name": "HBoxModel",
            "_view_count": null,
            "_view_module": "@jupyter-widgets/controls",
            "_view_module_version": "1.5.0",
            "_view_name": "HBoxView",
            "box_style": "",
            "children": [
              "IPY_MODEL_1131e727887c4030ad451a44f11870e9",
              "IPY_MODEL_581f0a2815d44294a7084bfb2ed3ba95",
              "IPY_MODEL_1764f7a1af18499c8ec767b06914f439"
            ],
            "layout": "IPY_MODEL_021806461ab44c5abdd4629d6d268199"
          }
        },
        "1131e727887c4030ad451a44f11870e9": {
          "model_module": "@jupyter-widgets/controls",
          "model_name": "HTMLModel",
          "model_module_version": "1.5.0",
          "state": {
            "_dom_classes": [],
            "_model_module": "@jupyter-widgets/controls",
            "_model_module_version": "1.5.0",
            "_model_name": "HTMLModel",
            "_view_count": null,
            "_view_module": "@jupyter-widgets/controls",
            "_view_module_version": "1.5.0",
            "_view_name": "HTMLView",
            "description": "",
            "description_tooltip": null,
            "layout": "IPY_MODEL_e633f0851f984feea42c0f676462a47a",
            "placeholder": "​",
            "style": "IPY_MODEL_e79702d34d7b426eb7f6612532abb0e1",
            "value": "100%"
          }
        },
        "581f0a2815d44294a7084bfb2ed3ba95": {
          "model_module": "@jupyter-widgets/controls",
          "model_name": "FloatProgressModel",
          "model_module_version": "1.5.0",
          "state": {
            "_dom_classes": [],
            "_model_module": "@jupyter-widgets/controls",
            "_model_module_version": "1.5.0",
            "_model_name": "FloatProgressModel",
            "_view_count": null,
            "_view_module": "@jupyter-widgets/controls",
            "_view_module_version": "1.5.0",
            "_view_name": "ProgressView",
            "bar_style": "success",
            "description": "",
            "description_tooltip": null,
            "layout": "IPY_MODEL_86248af124514eb995033fcd604c8fab",
            "max": 30,
            "min": 0,
            "orientation": "horizontal",
            "style": "IPY_MODEL_39a5ec80a5234a7dbcdf7615df616518",
            "value": 30
          }
        },
        "1764f7a1af18499c8ec767b06914f439": {
          "model_module": "@jupyter-widgets/controls",
          "model_name": "HTMLModel",
          "model_module_version": "1.5.0",
          "state": {
            "_dom_classes": [],
            "_model_module": "@jupyter-widgets/controls",
            "_model_module_version": "1.5.0",
            "_model_name": "HTMLModel",
            "_view_count": null,
            "_view_module": "@jupyter-widgets/controls",
            "_view_module_version": "1.5.0",
            "_view_name": "HTMLView",
            "description": "",
            "description_tooltip": null,
            "layout": "IPY_MODEL_faade32c915f4120895baada845e1c90",
            "placeholder": "​",
            "style": "IPY_MODEL_3274dd63da9747959237c72b1ab8a738",
            "value": " 30/30 [06:42&lt;00:00, 12.81s/it]"
          }
        },
        "021806461ab44c5abdd4629d6d268199": {
          "model_module": "@jupyter-widgets/base",
          "model_name": "LayoutModel",
          "model_module_version": "1.2.0",
          "state": {
            "_model_module": "@jupyter-widgets/base",
            "_model_module_version": "1.2.0",
            "_model_name": "LayoutModel",
            "_view_count": null,
            "_view_module": "@jupyter-widgets/base",
            "_view_module_version": "1.2.0",
            "_view_name": "LayoutView",
            "align_content": null,
            "align_items": null,
            "align_self": null,
            "border": null,
            "bottom": null,
            "display": null,
            "flex": null,
            "flex_flow": null,
            "grid_area": null,
            "grid_auto_columns": null,
            "grid_auto_flow": null,
            "grid_auto_rows": null,
            "grid_column": null,
            "grid_gap": null,
            "grid_row": null,
            "grid_template_areas": null,
            "grid_template_columns": null,
            "grid_template_rows": null,
            "height": null,
            "justify_content": null,
            "justify_items": null,
            "left": null,
            "margin": null,
            "max_height": null,
            "max_width": null,
            "min_height": null,
            "min_width": null,
            "object_fit": null,
            "object_position": null,
            "order": null,
            "overflow": null,
            "overflow_x": null,
            "overflow_y": null,
            "padding": null,
            "right": null,
            "top": null,
            "visibility": null,
            "width": null
          }
        },
        "e633f0851f984feea42c0f676462a47a": {
          "model_module": "@jupyter-widgets/base",
          "model_name": "LayoutModel",
          "model_module_version": "1.2.0",
          "state": {
            "_model_module": "@jupyter-widgets/base",
            "_model_module_version": "1.2.0",
            "_model_name": "LayoutModel",
            "_view_count": null,
            "_view_module": "@jupyter-widgets/base",
            "_view_module_version": "1.2.0",
            "_view_name": "LayoutView",
            "align_content": null,
            "align_items": null,
            "align_self": null,
            "border": null,
            "bottom": null,
            "display": null,
            "flex": null,
            "flex_flow": null,
            "grid_area": null,
            "grid_auto_columns": null,
            "grid_auto_flow": null,
            "grid_auto_rows": null,
            "grid_column": null,
            "grid_gap": null,
            "grid_row": null,
            "grid_template_areas": null,
            "grid_template_columns": null,
            "grid_template_rows": null,
            "height": null,
            "justify_content": null,
            "justify_items": null,
            "left": null,
            "margin": null,
            "max_height": null,
            "max_width": null,
            "min_height": null,
            "min_width": null,
            "object_fit": null,
            "object_position": null,
            "order": null,
            "overflow": null,
            "overflow_x": null,
            "overflow_y": null,
            "padding": null,
            "right": null,
            "top": null,
            "visibility": null,
            "width": null
          }
        },
        "e79702d34d7b426eb7f6612532abb0e1": {
          "model_module": "@jupyter-widgets/controls",
          "model_name": "DescriptionStyleModel",
          "model_module_version": "1.5.0",
          "state": {
            "_model_module": "@jupyter-widgets/controls",
            "_model_module_version": "1.5.0",
            "_model_name": "DescriptionStyleModel",
            "_view_count": null,
            "_view_module": "@jupyter-widgets/base",
            "_view_module_version": "1.2.0",
            "_view_name": "StyleView",
            "description_width": ""
          }
        },
        "86248af124514eb995033fcd604c8fab": {
          "model_module": "@jupyter-widgets/base",
          "model_name": "LayoutModel",
          "model_module_version": "1.2.0",
          "state": {
            "_model_module": "@jupyter-widgets/base",
            "_model_module_version": "1.2.0",
            "_model_name": "LayoutModel",
            "_view_count": null,
            "_view_module": "@jupyter-widgets/base",
            "_view_module_version": "1.2.0",
            "_view_name": "LayoutView",
            "align_content": null,
            "align_items": null,
            "align_self": null,
            "border": null,
            "bottom": null,
            "display": null,
            "flex": null,
            "flex_flow": null,
            "grid_area": null,
            "grid_auto_columns": null,
            "grid_auto_flow": null,
            "grid_auto_rows": null,
            "grid_column": null,
            "grid_gap": null,
            "grid_row": null,
            "grid_template_areas": null,
            "grid_template_columns": null,
            "grid_template_rows": null,
            "height": null,
            "justify_content": null,
            "justify_items": null,
            "left": null,
            "margin": null,
            "max_height": null,
            "max_width": null,
            "min_height": null,
            "min_width": null,
            "object_fit": null,
            "object_position": null,
            "order": null,
            "overflow": null,
            "overflow_x": null,
            "overflow_y": null,
            "padding": null,
            "right": null,
            "top": null,
            "visibility": null,
            "width": null
          }
        },
        "39a5ec80a5234a7dbcdf7615df616518": {
          "model_module": "@jupyter-widgets/controls",
          "model_name": "ProgressStyleModel",
          "model_module_version": "1.5.0",
          "state": {
            "_model_module": "@jupyter-widgets/controls",
            "_model_module_version": "1.5.0",
            "_model_name": "ProgressStyleModel",
            "_view_count": null,
            "_view_module": "@jupyter-widgets/base",
            "_view_module_version": "1.2.0",
            "_view_name": "StyleView",
            "bar_color": null,
            "description_width": ""
          }
        },
        "faade32c915f4120895baada845e1c90": {
          "model_module": "@jupyter-widgets/base",
          "model_name": "LayoutModel",
          "model_module_version": "1.2.0",
          "state": {
            "_model_module": "@jupyter-widgets/base",
            "_model_module_version": "1.2.0",
            "_model_name": "LayoutModel",
            "_view_count": null,
            "_view_module": "@jupyter-widgets/base",
            "_view_module_version": "1.2.0",
            "_view_name": "LayoutView",
            "align_content": null,
            "align_items": null,
            "align_self": null,
            "border": null,
            "bottom": null,
            "display": null,
            "flex": null,
            "flex_flow": null,
            "grid_area": null,
            "grid_auto_columns": null,
            "grid_auto_flow": null,
            "grid_auto_rows": null,
            "grid_column": null,
            "grid_gap": null,
            "grid_row": null,
            "grid_template_areas": null,
            "grid_template_columns": null,
            "grid_template_rows": null,
            "height": null,
            "justify_content": null,
            "justify_items": null,
            "left": null,
            "margin": null,
            "max_height": null,
            "max_width": null,
            "min_height": null,
            "min_width": null,
            "object_fit": null,
            "object_position": null,
            "order": null,
            "overflow": null,
            "overflow_x": null,
            "overflow_y": null,
            "padding": null,
            "right": null,
            "top": null,
            "visibility": null,
            "width": null
          }
        },
        "3274dd63da9747959237c72b1ab8a738": {
          "model_module": "@jupyter-widgets/controls",
          "model_name": "DescriptionStyleModel",
          "model_module_version": "1.5.0",
          "state": {
            "_model_module": "@jupyter-widgets/controls",
            "_model_module_version": "1.5.0",
            "_model_name": "DescriptionStyleModel",
            "_view_count": null,
            "_view_module": "@jupyter-widgets/base",
            "_view_module_version": "1.2.0",
            "_view_name": "StyleView",
            "description_width": ""
          }
        }
      }
    }
  },
  "nbformat": 4,
  "nbformat_minor": 0
}